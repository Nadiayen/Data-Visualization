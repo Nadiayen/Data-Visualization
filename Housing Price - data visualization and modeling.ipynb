{
 "cells": [
  {
   "cell_type": "markdown",
   "id": "028e7393",
   "metadata": {},
   "source": [
    "#### Analyze the data in hprice1 table. A complete answer will include visualizations in matplotlib, models in statsmodels, and models in sklearn."
   ]
  },
  {
   "cell_type": "markdown",
   "id": "6410a571",
   "metadata": {},
   "source": [
    "I will use visualizations in matplotlib and apply the following models to present Question 1:\n",
    "1. Linear regression\n",
    "2. Logistic regression\n",
    "3. Ridge regression\n",
    "4. Lasso regression\n",
    "5. Principle component analysis(PCA)"
   ]
  },
  {
   "cell_type": "markdown",
   "id": "fdf12ccc",
   "metadata": {},
   "source": [
    "## Q : Visualizations in matplotlib"
   ]
  },
  {
   "cell_type": "code",
   "execution_count": 1,
   "id": "216c42b3",
   "metadata": {},
   "outputs": [],
   "source": [
    "import os\n",
    "import numpy as np\n",
    "import pandas as pd\n",
    "import matplotlib.pyplot as plt\n",
    "from mpl_toolkits import mplot3d\n",
    "import seaborn as sns\n",
    "import statsmodels.api as sm\n",
    "import statsmodels.formula.api as smf\n",
    "from sklearn import linear_model"
   ]
  },
  {
   "cell_type": "code",
   "execution_count": 2,
   "id": "cbc1f3c5",
   "metadata": {},
   "outputs": [],
   "source": [
    "plt.style.use('default')"
   ]
  },
  {
   "cell_type": "code",
   "execution_count": 3,
   "id": "01772850",
   "metadata": {},
   "outputs": [
    {
     "data": {
      "text/html": [
       "<div>\n",
       "<style scoped>\n",
       "    .dataframe tbody tr th:only-of-type {\n",
       "        vertical-align: middle;\n",
       "    }\n",
       "\n",
       "    .dataframe tbody tr th {\n",
       "        vertical-align: top;\n",
       "    }\n",
       "\n",
       "    .dataframe thead th {\n",
       "        text-align: right;\n",
       "    }\n",
       "</style>\n",
       "<table border=\"1\" class=\"dataframe\">\n",
       "  <thead>\n",
       "    <tr style=\"text-align: right;\">\n",
       "      <th></th>\n",
       "      <th>price</th>\n",
       "      <th>assess</th>\n",
       "      <th>bdrms</th>\n",
       "      <th>lotsize</th>\n",
       "      <th>sqrft</th>\n",
       "      <th>colonial</th>\n",
       "      <th>lprice</th>\n",
       "      <th>lassess</th>\n",
       "      <th>llotsize</th>\n",
       "      <th>lsqrft</th>\n",
       "    </tr>\n",
       "  </thead>\n",
       "  <tbody>\n",
       "    <tr>\n",
       "      <th>0</th>\n",
       "      <td>300.0</td>\n",
       "      <td>349.1</td>\n",
       "      <td>4</td>\n",
       "      <td>6126</td>\n",
       "      <td>2438</td>\n",
       "      <td>1</td>\n",
       "      <td>5.703783</td>\n",
       "      <td>5.855359</td>\n",
       "      <td>8.720297</td>\n",
       "      <td>7.798934</td>\n",
       "    </tr>\n",
       "    <tr>\n",
       "      <th>1</th>\n",
       "      <td>370.0</td>\n",
       "      <td>351.5</td>\n",
       "      <td>3</td>\n",
       "      <td>9903</td>\n",
       "      <td>2076</td>\n",
       "      <td>1</td>\n",
       "      <td>5.913503</td>\n",
       "      <td>5.862210</td>\n",
       "      <td>9.200593</td>\n",
       "      <td>7.638198</td>\n",
       "    </tr>\n",
       "    <tr>\n",
       "      <th>2</th>\n",
       "      <td>191.0</td>\n",
       "      <td>217.7</td>\n",
       "      <td>3</td>\n",
       "      <td>5200</td>\n",
       "      <td>1374</td>\n",
       "      <td>0</td>\n",
       "      <td>5.252274</td>\n",
       "      <td>5.383118</td>\n",
       "      <td>8.556414</td>\n",
       "      <td>7.225482</td>\n",
       "    </tr>\n",
       "    <tr>\n",
       "      <th>3</th>\n",
       "      <td>195.0</td>\n",
       "      <td>231.8</td>\n",
       "      <td>3</td>\n",
       "      <td>4600</td>\n",
       "      <td>1448</td>\n",
       "      <td>1</td>\n",
       "      <td>5.273000</td>\n",
       "      <td>5.445875</td>\n",
       "      <td>8.433811</td>\n",
       "      <td>7.277938</td>\n",
       "    </tr>\n",
       "    <tr>\n",
       "      <th>4</th>\n",
       "      <td>373.0</td>\n",
       "      <td>319.1</td>\n",
       "      <td>4</td>\n",
       "      <td>6095</td>\n",
       "      <td>2514</td>\n",
       "      <td>1</td>\n",
       "      <td>5.921578</td>\n",
       "      <td>5.765504</td>\n",
       "      <td>8.715224</td>\n",
       "      <td>7.829630</td>\n",
       "    </tr>\n",
       "    <tr>\n",
       "      <th>...</th>\n",
       "      <td>...</td>\n",
       "      <td>...</td>\n",
       "      <td>...</td>\n",
       "      <td>...</td>\n",
       "      <td>...</td>\n",
       "      <td>...</td>\n",
       "      <td>...</td>\n",
       "      <td>...</td>\n",
       "      <td>...</td>\n",
       "      <td>...</td>\n",
       "    </tr>\n",
       "    <tr>\n",
       "      <th>83</th>\n",
       "      <td>295.0</td>\n",
       "      <td>318.3</td>\n",
       "      <td>3</td>\n",
       "      <td>6056</td>\n",
       "      <td>1837</td>\n",
       "      <td>1</td>\n",
       "      <td>5.686975</td>\n",
       "      <td>5.762994</td>\n",
       "      <td>8.708805</td>\n",
       "      <td>7.515889</td>\n",
       "    </tr>\n",
       "    <tr>\n",
       "      <th>84</th>\n",
       "      <td>236.0</td>\n",
       "      <td>259.4</td>\n",
       "      <td>3</td>\n",
       "      <td>5828</td>\n",
       "      <td>1715</td>\n",
       "      <td>0</td>\n",
       "      <td>5.463832</td>\n",
       "      <td>5.558371</td>\n",
       "      <td>8.670429</td>\n",
       "      <td>7.447168</td>\n",
       "    </tr>\n",
       "    <tr>\n",
       "      <th>85</th>\n",
       "      <td>202.5</td>\n",
       "      <td>258.1</td>\n",
       "      <td>3</td>\n",
       "      <td>6341</td>\n",
       "      <td>1574</td>\n",
       "      <td>0</td>\n",
       "      <td>5.310740</td>\n",
       "      <td>5.553347</td>\n",
       "      <td>8.754792</td>\n",
       "      <td>7.361375</td>\n",
       "    </tr>\n",
       "    <tr>\n",
       "      <th>86</th>\n",
       "      <td>219.0</td>\n",
       "      <td>232.0</td>\n",
       "      <td>2</td>\n",
       "      <td>6362</td>\n",
       "      <td>1185</td>\n",
       "      <td>0</td>\n",
       "      <td>5.389072</td>\n",
       "      <td>5.446737</td>\n",
       "      <td>8.758098</td>\n",
       "      <td>7.077498</td>\n",
       "    </tr>\n",
       "    <tr>\n",
       "      <th>87</th>\n",
       "      <td>242.0</td>\n",
       "      <td>252.0</td>\n",
       "      <td>4</td>\n",
       "      <td>4950</td>\n",
       "      <td>1774</td>\n",
       "      <td>1</td>\n",
       "      <td>5.488938</td>\n",
       "      <td>5.529429</td>\n",
       "      <td>8.507143</td>\n",
       "      <td>7.480992</td>\n",
       "    </tr>\n",
       "  </tbody>\n",
       "</table>\n",
       "<p>88 rows × 10 columns</p>\n",
       "</div>"
      ],
      "text/plain": [
       "    price  assess  bdrms  lotsize  sqrft  colonial    lprice   lassess  \\\n",
       "0   300.0   349.1      4     6126   2438         1  5.703783  5.855359   \n",
       "1   370.0   351.5      3     9903   2076         1  5.913503  5.862210   \n",
       "2   191.0   217.7      3     5200   1374         0  5.252274  5.383118   \n",
       "3   195.0   231.8      3     4600   1448         1  5.273000  5.445875   \n",
       "4   373.0   319.1      4     6095   2514         1  5.921578  5.765504   \n",
       "..    ...     ...    ...      ...    ...       ...       ...       ...   \n",
       "83  295.0   318.3      3     6056   1837         1  5.686975  5.762994   \n",
       "84  236.0   259.4      3     5828   1715         0  5.463832  5.558371   \n",
       "85  202.5   258.1      3     6341   1574         0  5.310740  5.553347   \n",
       "86  219.0   232.0      2     6362   1185         0  5.389072  5.446737   \n",
       "87  242.0   252.0      4     4950   1774         1  5.488938  5.529429   \n",
       "\n",
       "    llotsize    lsqrft  \n",
       "0   8.720297  7.798934  \n",
       "1   9.200593  7.638198  \n",
       "2   8.556414  7.225482  \n",
       "3   8.433811  7.277938  \n",
       "4   8.715224  7.829630  \n",
       "..       ...       ...  \n",
       "83  8.708805  7.515889  \n",
       "84  8.670429  7.447168  \n",
       "85  8.754792  7.361375  \n",
       "86  8.758098  7.077498  \n",
       "87  8.507143  7.480992  \n",
       "\n",
       "[88 rows x 10 columns]"
      ]
     },
     "execution_count": 3,
     "metadata": {},
     "output_type": "execute_result"
    }
   ],
   "source": [
    "os.chdir('/Users/chiayiyen')\n",
    "df = pd.read_csv('/Users/chiayiyen/Desktop/0MSBAUTD/2023/6341/csv/hprice1.csv')\n",
    "df"
   ]
  },
  {
   "cell_type": "code",
   "execution_count": 70,
   "id": "71ce0681",
   "metadata": {},
   "outputs": [
    {
     "data": {
      "text/html": [
       "<div>\n",
       "<style scoped>\n",
       "    .dataframe tbody tr th:only-of-type {\n",
       "        vertical-align: middle;\n",
       "    }\n",
       "\n",
       "    .dataframe tbody tr th {\n",
       "        vertical-align: top;\n",
       "    }\n",
       "\n",
       "    .dataframe thead th {\n",
       "        text-align: right;\n",
       "    }\n",
       "</style>\n",
       "<table border=\"1\" class=\"dataframe\">\n",
       "  <thead>\n",
       "    <tr style=\"text-align: right;\">\n",
       "      <th></th>\n",
       "      <th>price</th>\n",
       "      <th>assess</th>\n",
       "      <th>bdrms</th>\n",
       "      <th>lotsize</th>\n",
       "      <th>sqrft</th>\n",
       "      <th>colonial</th>\n",
       "      <th>lprice</th>\n",
       "      <th>lassess</th>\n",
       "      <th>llotsize</th>\n",
       "      <th>lsqrft</th>\n",
       "    </tr>\n",
       "  </thead>\n",
       "  <tbody>\n",
       "    <tr>\n",
       "      <th>count</th>\n",
       "      <td>88.000000</td>\n",
       "      <td>88.000000</td>\n",
       "      <td>88.000000</td>\n",
       "      <td>88.000000</td>\n",
       "      <td>88.000000</td>\n",
       "      <td>88.000000</td>\n",
       "      <td>88.000000</td>\n",
       "      <td>88.000000</td>\n",
       "      <td>88.000000</td>\n",
       "      <td>88.000000</td>\n",
       "    </tr>\n",
       "    <tr>\n",
       "      <th>mean</th>\n",
       "      <td>293.546034</td>\n",
       "      <td>315.736364</td>\n",
       "      <td>3.568182</td>\n",
       "      <td>9019.863636</td>\n",
       "      <td>2013.693182</td>\n",
       "      <td>0.693182</td>\n",
       "      <td>5.633180</td>\n",
       "      <td>5.717994</td>\n",
       "      <td>8.905105</td>\n",
       "      <td>7.572610</td>\n",
       "    </tr>\n",
       "    <tr>\n",
       "      <th>std</th>\n",
       "      <td>102.713445</td>\n",
       "      <td>95.314437</td>\n",
       "      <td>0.841393</td>\n",
       "      <td>10174.150414</td>\n",
       "      <td>577.191583</td>\n",
       "      <td>0.463816</td>\n",
       "      <td>0.303573</td>\n",
       "      <td>0.262113</td>\n",
       "      <td>0.544060</td>\n",
       "      <td>0.258688</td>\n",
       "    </tr>\n",
       "    <tr>\n",
       "      <th>min</th>\n",
       "      <td>111.000000</td>\n",
       "      <td>198.700000</td>\n",
       "      <td>2.000000</td>\n",
       "      <td>1000.000000</td>\n",
       "      <td>1171.000000</td>\n",
       "      <td>0.000000</td>\n",
       "      <td>4.709530</td>\n",
       "      <td>5.291796</td>\n",
       "      <td>6.907755</td>\n",
       "      <td>7.065613</td>\n",
       "    </tr>\n",
       "    <tr>\n",
       "      <th>25%</th>\n",
       "      <td>230.000000</td>\n",
       "      <td>253.900000</td>\n",
       "      <td>3.000000</td>\n",
       "      <td>5732.750000</td>\n",
       "      <td>1660.500000</td>\n",
       "      <td>0.000000</td>\n",
       "      <td>5.438079</td>\n",
       "      <td>5.536940</td>\n",
       "      <td>8.653908</td>\n",
       "      <td>7.414873</td>\n",
       "    </tr>\n",
       "    <tr>\n",
       "      <th>50%</th>\n",
       "      <td>265.500000</td>\n",
       "      <td>290.200000</td>\n",
       "      <td>3.000000</td>\n",
       "      <td>6430.000000</td>\n",
       "      <td>1845.000000</td>\n",
       "      <td>1.000000</td>\n",
       "      <td>5.581613</td>\n",
       "      <td>5.670566</td>\n",
       "      <td>8.768719</td>\n",
       "      <td>7.520231</td>\n",
       "    </tr>\n",
       "    <tr>\n",
       "      <th>75%</th>\n",
       "      <td>326.250000</td>\n",
       "      <td>352.125000</td>\n",
       "      <td>4.000000</td>\n",
       "      <td>8583.250000</td>\n",
       "      <td>2227.000000</td>\n",
       "      <td>1.000000</td>\n",
       "      <td>5.787642</td>\n",
       "      <td>5.863982</td>\n",
       "      <td>9.057567</td>\n",
       "      <td>7.708266</td>\n",
       "    </tr>\n",
       "    <tr>\n",
       "      <th>max</th>\n",
       "      <td>725.000000</td>\n",
       "      <td>708.600000</td>\n",
       "      <td>7.000000</td>\n",
       "      <td>92681.000000</td>\n",
       "      <td>3880.000000</td>\n",
       "      <td>1.000000</td>\n",
       "      <td>6.586172</td>\n",
       "      <td>6.563291</td>\n",
       "      <td>11.436920</td>\n",
       "      <td>8.263591</td>\n",
       "    </tr>\n",
       "  </tbody>\n",
       "</table>\n",
       "</div>"
      ],
      "text/plain": [
       "            price      assess      bdrms       lotsize        sqrft  \\\n",
       "count   88.000000   88.000000  88.000000     88.000000    88.000000   \n",
       "mean   293.546034  315.736364   3.568182   9019.863636  2013.693182   \n",
       "std    102.713445   95.314437   0.841393  10174.150414   577.191583   \n",
       "min    111.000000  198.700000   2.000000   1000.000000  1171.000000   \n",
       "25%    230.000000  253.900000   3.000000   5732.750000  1660.500000   \n",
       "50%    265.500000  290.200000   3.000000   6430.000000  1845.000000   \n",
       "75%    326.250000  352.125000   4.000000   8583.250000  2227.000000   \n",
       "max    725.000000  708.600000   7.000000  92681.000000  3880.000000   \n",
       "\n",
       "        colonial     lprice    lassess   llotsize     lsqrft  \n",
       "count  88.000000  88.000000  88.000000  88.000000  88.000000  \n",
       "mean    0.693182   5.633180   5.717994   8.905105   7.572610  \n",
       "std     0.463816   0.303573   0.262113   0.544060   0.258688  \n",
       "min     0.000000   4.709530   5.291796   6.907755   7.065613  \n",
       "25%     0.000000   5.438079   5.536940   8.653908   7.414873  \n",
       "50%     1.000000   5.581613   5.670566   8.768719   7.520231  \n",
       "75%     1.000000   5.787642   5.863982   9.057567   7.708266  \n",
       "max     1.000000   6.586172   6.563291  11.436920   8.263591  "
      ]
     },
     "execution_count": 70,
     "metadata": {},
     "output_type": "execute_result"
    }
   ],
   "source": [
    "df.describe()"
   ]
  },
  {
   "cell_type": "markdown",
   "id": "835faf92",
   "metadata": {},
   "source": [
    "### Heat Map"
   ]
  },
  {
   "cell_type": "code",
   "execution_count": 71,
   "id": "730908be",
   "metadata": {},
   "outputs": [
    {
     "data": {
      "text/plain": [
       "<AxesSubplot:>"
      ]
     },
     "execution_count": 71,
     "metadata": {},
     "output_type": "execute_result"
    },
    {
     "data": {
      "image/png": "[encoded data removed]",
      "text/plain": [
       "<Figure size 800x400 with 2 Axes>"
      ]
     },
     "metadata": {},
     "output_type": "display_data"
    }
   ],
   "source": [
    "df1 = df.copy()\n",
    "df1 = df1.drop(['lprice','lassess','llotsize','lsqrft'], axis =1)\n",
    "\n",
    "fig, ax = plt.subplots(figsize=(8, 4))\n",
    "sns.heatmap(df1.corr(), annot = True, cmap = \"YlGnBu\", ax=ax)\n",
    "\n",
    "# Heat Map shows the correlations among varialbles.\n",
    "# The stronger the positive correlation between variables, the darker the blue blocks appear:\n",
    "#  price    : assess(0.91), sqrft(0.79)\n",
    "#  assess   : price(0.91) , sqrft(0.87)\n",
    "#  bdrms    : sqrft(0.53)\n",
    "#  lotsize  : price(0.35)\n",
    "#  sqrft    : assess(0.87), price(0.79)\n",
    "#  colonial : bdrms(0.3)"
   ]
  },
  {
   "cell_type": "markdown",
   "id": "db88a029",
   "metadata": {},
   "source": [
    "### Scatter Plot"
   ]
  },
  {
   "cell_type": "code",
   "execution_count": 72,
   "id": "f7b88810",
   "metadata": {},
   "outputs": [
    {
     "data": {
      "text/plain": [
       "<AxesSubplot:xlabel='price', ylabel='assess'>"
      ]
     },
     "execution_count": 72,
     "metadata": {},
     "output_type": "execute_result"
    },
    {
     "data": {
      "image/png": "[encoded data removed]",
      "text/plain": [
       "<Figure size 640x480 with 1 Axes>"
      ]
     },
     "metadata": {},
     "output_type": "display_data"
    }
   ],
   "source": [
    "sns.scatterplot(x = \"price\", y = \"assess\", data = df, hue = \"bdrms\", size = \"sqrft\", palette = \"coolwarm\")\n",
    "\n",
    "# In the top-right portion of the graph, we can observe that houses with higher values \n",
    "# for both \"price\" and \"assess\" have larger house sizes (indicated by bigger dots representing\n",
    "# \"sqrft\") and more bedrooms (represented by an increased number of red dots indicating \"bdrms\")."
   ]
  },
  {
   "cell_type": "markdown",
   "id": "0a8693a4",
   "metadata": {},
   "source": [
    "### Box plot"
   ]
  },
  {
   "cell_type": "code",
   "execution_count": 73,
   "id": "dae8eaba",
   "metadata": {},
   "outputs": [
    {
     "data": {
      "text/plain": [
       "<AxesSubplot:xlabel='Style', ylabel='price'>"
      ]
     },
     "execution_count": 73,
     "metadata": {},
     "output_type": "execute_result"
    },
    {
     "data": {
      "image/png": "[encoded data removed]",
      "text/plain": [
       "<Figure size 640x480 with 1 Axes>"
      ]
     },
     "metadata": {},
     "output_type": "display_data"
    }
   ],
   "source": [
    "# Convert the \"lotsize\" variable into binary format: 6430 sqft is the median of \"lotsize\".\n",
    "df1['LotSize'] = df1['lotsize'].apply(lambda x: 'Bigger' if x > 6430 else 'Smaller')\n",
    "\n",
    "# Convert the \"colonial\" variable into binary format.\n",
    "df1['Style'] = df1['colonial'].apply(lambda x: 'Colonial' if x == 1 else 'Non-Colonial')\n",
    "\n",
    "sns.boxplot(x = \"Style\", y = \"price\", data = df1, hue = \"LotSize\", palette = \"YlGnBu\")\n",
    "\n",
    "# (1) A larger lot size will result in a higher price.\n",
    "# (2) Colonial style houses will result in a higher price."
   ]
  },
  {
   "cell_type": "markdown",
   "id": "6de72e6a",
   "metadata": {},
   "source": [
    "### Bar plot"
   ]
  },
  {
   "cell_type": "code",
   "execution_count": 74,
   "id": "56f2f38d",
   "metadata": {},
   "outputs": [
    {
     "data": {
      "text/plain": [
       "<AxesSubplot:xlabel='bdrms', ylabel='price'>"
      ]
     },
     "execution_count": 74,
     "metadata": {},
     "output_type": "execute_result"
    },
    {
     "data": {
      "image/png": "[encoded data removed]",
      "text/plain": [
       "<Figure size 640x480 with 1 Axes>"
      ]
     },
     "metadata": {},
     "output_type": "display_data"
    }
   ],
   "source": [
    "sns.barplot(x = \"bdrms\", y = \"price\", data = df1, palette = \"pastel\")\n",
    "# The highest priced houses are those with 5 bedrooms, while the lowest priced ones are those with 2 bedrooms."
   ]
  },
  {
   "cell_type": "markdown",
   "id": "10d7cf2b",
   "metadata": {},
   "source": [
    "### Strip Plot"
   ]
  },
  {
   "cell_type": "code",
   "execution_count": 75,
   "id": "22427038",
   "metadata": {},
   "outputs": [
    {
     "data": {
      "text/plain": [
       "<AxesSubplot:xlabel='bdrms', ylabel='price'>"
      ]
     },
     "execution_count": 75,
     "metadata": {},
     "output_type": "execute_result"
    },
    {
     "data": {
      "image/png": "[encoded data removed]",
      "text/plain": [
       "<Figure size 640x480 with 1 Axes>"
      ]
     },
     "metadata": {},
     "output_type": "display_data"
    }
   ],
   "source": [
    "# Convert the \"sqrft\" variable into binary format: 1845 sqft is the median of \"sqrft\".\n",
    "df1['House Sq.ft.'] = df1['sqrft'].apply(lambda x: 'Smaller' if x < 1845 else 'Bigger')\n",
    "\n",
    "sns.stripplot(x = \"bdrms\", y = \"price\", data = df1, hue = \"House Sq.ft.\", palette = \"YlGnBu\")\n",
    "\n",
    "# (1) For properties with the same number of bedrooms, those with a higher price are also the ones \n",
    "#     with a larger square footage, as indicated by the light green dots.\n",
    "# (2) It should be noted that having more bedrooms does not necessarily result in a higher price if \n",
    "#     the square footage of the house is small. This can be observed at the bottom of the figure, \n",
    "#     where the lower-priced dots for 4 bdrms are compared to those for 3 bdrms."
   ]
  },
  {
   "cell_type": "markdown",
   "id": "569ea632",
   "metadata": {},
   "source": [
    "### Joint Plot"
   ]
  },
  {
   "cell_type": "code",
   "execution_count": 76,
   "id": "e0671b55",
   "metadata": {},
   "outputs": [
    {
     "data": {
      "text/plain": [
       "<seaborn.axisgrid.JointGrid at 0x7ffbf86c9280>"
      ]
     },
     "execution_count": 76,
     "metadata": {},
     "output_type": "execute_result"
    },
    {
     "data": {
      "image/png": "[encoded data removed]",
      "text/plain": [
       "<Figure size 600x600 with 3 Axes>"
      ]
     },
     "metadata": {},
     "output_type": "display_data"
    }
   ],
   "source": [
    "sns.jointplot(x = \"sqrft\", y = \"price\", data = df1, kind = \"reg\")\n",
    "\n",
    "# The plot displays a regression line between the price and square footage of houses, \n",
    "# indicating a positive correlation between these two variables."
   ]
  },
  {
   "cell_type": "markdown",
   "id": "e7e49368",
   "metadata": {},
   "source": [
    "##  Q : Models in statsmodels"
   ]
  },
  {
   "cell_type": "markdown",
   "id": "2d3ec0e2",
   "metadata": {},
   "source": [
    "## Regression"
   ]
  },
  {
   "cell_type": "code",
   "execution_count": 77,
   "id": "b1edf9f4",
   "metadata": {},
   "outputs": [],
   "source": [
    "y = df['price']\n",
    "X = df.copy()\n",
    "X = df.drop(['price','lprice','lassess','llotsize','lsqrft'], axis=1)\n",
    "X['const'] = 1.0"
   ]
  },
  {
   "cell_type": "code",
   "execution_count": 78,
   "id": "e512ce42",
   "metadata": {},
   "outputs": [
    {
     "name": "stdout",
     "output_type": "stream",
     "text": [
      "                            OLS Regression Results                            \n",
      "==============================================================================\n",
      "Dep. Variable:                  price   R-squared:                       0.831\n",
      "Model:                            OLS   Adj. R-squared:                  0.821\n",
      "Method:                 Least Squares   F-statistic:                     80.56\n",
      "Date:                Sat, 11 Mar 2023   Prob (F-statistic):           3.59e-30\n",
      "Time:                        18:00:52   Log-Likelihood:                -453.78\n",
      "No. Observations:                  88   AIC:                             919.6\n",
      "Df Residuals:                      82   BIC:                             934.4\n",
      "Df Model:                           5                                         \n",
      "Covariance Type:            nonrobust                                         \n",
      "==============================================================================\n",
      "                 coef    std err          t      P>|t|      [0.025      0.975]\n",
      "------------------------------------------------------------------------------\n",
      "assess         0.9041      0.104      8.671      0.000       0.697       1.112\n",
      "bdrms          9.6303      6.916      1.392      0.168      -4.128      23.389\n",
      "lotsize        0.0006      0.000      1.206      0.231      -0.000       0.002\n",
      "sqrft          0.0011      0.017      0.062      0.950      -0.033       0.035\n",
      "colonial       9.5476     10.647      0.897      0.372     -11.633      30.729\n",
      "const        -40.4477     21.594     -1.873      0.065     -83.405       2.510\n",
      "==============================================================================\n",
      "Omnibus:                       30.541   Durbin-Watson:                   2.118\n",
      "Prob(Omnibus):                  0.000   Jarque-Bera (JB):              115.391\n",
      "Skew:                           0.989   Prob(JB):                     8.77e-26\n",
      "Kurtosis:                       8.250   Cond. No.                     6.45e+04\n",
      "==============================================================================\n",
      "\n",
      "Notes:\n",
      "[1] Standard Errors assume that the covariance matrix of the errors is correctly specified.\n",
      "[2] The condition number is large, 6.45e+04. This might indicate that there are\n",
      "strong multicollinearity or other numerical problems.\n"
     ]
    }
   ],
   "source": [
    "linregr1 = sm.OLS(y, X).fit()\n",
    "print(linregr1.summary())\n",
    "\n",
    "# (1) The result shows that approximately 83% of the variation in the \"price\" can be explained \n",
    "#     by the independent variables included in the linear regression model. \n",
    "# (2) The variable that is statistically significant at the 0.05 level is: \"assess\"."
   ]
  },
  {
   "cell_type": "markdown",
   "id": "f9336018",
   "metadata": {},
   "source": [
    "## Logistic regression"
   ]
  },
  {
   "cell_type": "code",
   "execution_count": 113,
   "id": "7626d0a7",
   "metadata": {},
   "outputs": [],
   "source": [
    "dflr = df.copy()"
   ]
  },
  {
   "cell_type": "code",
   "execution_count": 114,
   "id": "e66fbee6",
   "metadata": {},
   "outputs": [
    {
     "name": "stdout",
     "output_type": "stream",
     "text": [
      "Optimization terminated successfully.\n",
      "         Current function value: 0.300410\n",
      "         Iterations 9\n",
      "                           Logit Regression Results                           \n",
      "==============================================================================\n",
      "Dep. Variable:           price_binary   No. Observations:                   88\n",
      "Model:                          Logit   Df Residuals:                       82\n",
      "Method:                           MLE   Df Model:                            5\n",
      "Date:                Sat, 11 Mar 2023   Pseudo R-squ.:                  0.5666\n",
      "Time:                        18:03:10   Log-Likelihood:                -26.436\n",
      "converged:                       True   LL-Null:                       -60.997\n",
      "Covariance Type:            nonrobust   LLR p-value:                 1.561e-13\n",
      "==============================================================================\n",
      "                 coef    std err          z      P>|z|      [0.025      0.975]\n",
      "------------------------------------------------------------------------------\n",
      "Intercept    -18.8640      4.557     -4.140      0.000     -27.795      -9.933\n",
      "assess         0.0590      0.018      3.221      0.001       0.023       0.095\n",
      "bdrms          0.5167      0.532      0.972      0.331      -0.525       1.559\n",
      "lotsize     1.478e-05   3.62e-05      0.409      0.683   -5.61e-05    8.56e-05\n",
      "sqrft         -0.0005      0.002     -0.305      0.760      -0.004       0.003\n",
      "colonial       0.8334      0.814      1.024      0.306      -0.762       2.429\n",
      "==============================================================================\n",
      "\n",
      "Possibly complete quasi-separation: A fraction 0.10 of observations can be\n",
      "perfectly predicted. This might indicate that there is complete\n",
      "quasi-separation. In this case some parameters will not be identified.\n"
     ]
    }
   ],
   "source": [
    "# Convert the \"price\" variable into binary format: 265 sqft is the median of \"price\".\n",
    "dflr['price_binary'] = dflr['price'].apply(lambda x: 1 if x > 265 else 0)\n",
    "\n",
    "# Address the Singular matrix issue by excluding: 'lprice','lassess','llotsize','lsqrft'.\n",
    "mod = smf.logit('price_binary~assess+bdrms+lotsize+sqrft+colonial',data = dflr)\n",
    "res = mod.fit()\n",
    "print(res.summary())\n",
    "\n",
    "# The result shows that \"assess\" is still the most significant variable."
   ]
  },
  {
   "cell_type": "markdown",
   "id": "03b847a7",
   "metadata": {},
   "source": [
    "## Q : Models in sklearn"
   ]
  },
  {
   "cell_type": "markdown",
   "id": "e9876017",
   "metadata": {},
   "source": [
    "## Ridge Regression"
   ]
  },
  {
   "cell_type": "code",
   "execution_count": 11,
   "id": "6c83446b",
   "metadata": {},
   "outputs": [],
   "source": [
    "from sklearn.linear_model import Ridge\n",
    "from sklearn.model_selection import train_test_split\n",
    "from sklearn.metrics import mean_squared_error"
   ]
  },
  {
   "cell_type": "code",
   "execution_count": 12,
   "id": "02eeedad",
   "metadata": {},
   "outputs": [
    {
     "data": {
      "text/html": [
       "<style>#sk-container-id-1 {color: black;background-color: white;}#sk-container-id-1 pre{padding: 0;}#sk-container-id-1 div.sk-toggleable {background-color: white;}#sk-container-id-1 label.sk-toggleable__label {cursor: pointer;display: block;width: 100%;margin-bottom: 0;padding: 0.3em;box-sizing: border-box;text-align: center;}#sk-container-id-1 label.sk-toggleable__label-arrow:before {content: \"▸\";float: left;margin-right: 0.25em;color: #696969;}#sk-container-id-1 label.sk-toggleable__label-arrow:hover:before {color: black;}#sk-container-id-1 div.sk-estimator:hover label.sk-toggleable__label-arrow:before {color: black;}#sk-container-id-1 div.sk-toggleable__content {max-height: 0;max-width: 0;overflow: hidden;text-align: left;background-color: #f0f8ff;}#sk-container-id-1 div.sk-toggleable__content pre {margin: 0.2em;color: black;border-radius: 0.25em;background-color: #f0f8ff;}#sk-container-id-1 input.sk-toggleable__control:checked~div.sk-toggleable__content {max-height: 200px;max-width: 100%;overflow: auto;}#sk-container-id-1 input.sk-toggleable__control:checked~label.sk-toggleable__label-arrow:before {content: \"▾\";}#sk-container-id-1 div.sk-estimator input.sk-toggleable__control:checked~label.sk-toggleable__label {background-color: #d4ebff;}#sk-container-id-1 div.sk-label input.sk-toggleable__control:checked~label.sk-toggleable__label {background-color: #d4ebff;}#sk-container-id-1 input.sk-hidden--visually {border: 0;clip: rect(1px 1px 1px 1px);clip: rect(1px, 1px, 1px, 1px);height: 1px;margin: -1px;overflow: hidden;padding: 0;position: absolute;width: 1px;}#sk-container-id-1 div.sk-estimator {font-family: monospace;background-color: #f0f8ff;border: 1px dotted black;border-radius: 0.25em;box-sizing: border-box;margin-bottom: 0.5em;}#sk-container-id-1 div.sk-estimator:hover {background-color: #d4ebff;}#sk-container-id-1 div.sk-parallel-item::after {content: \"\";width: 100%;border-bottom: 1px solid gray;flex-grow: 1;}#sk-container-id-1 div.sk-label:hover label.sk-toggleable__label {background-color: #d4ebff;}#sk-container-id-1 div.sk-serial::before {content: \"\";position: absolute;border-left: 1px solid gray;box-sizing: border-box;top: 0;bottom: 0;left: 50%;z-index: 0;}#sk-container-id-1 div.sk-serial {display: flex;flex-direction: column;align-items: center;background-color: white;padding-right: 0.2em;padding-left: 0.2em;position: relative;}#sk-container-id-1 div.sk-item {position: relative;z-index: 1;}#sk-container-id-1 div.sk-parallel {display: flex;align-items: stretch;justify-content: center;background-color: white;position: relative;}#sk-container-id-1 div.sk-item::before, #sk-container-id-1 div.sk-parallel-item::before {content: \"\";position: absolute;border-left: 1px solid gray;box-sizing: border-box;top: 0;bottom: 0;left: 50%;z-index: -1;}#sk-container-id-1 div.sk-parallel-item {display: flex;flex-direction: column;z-index: 1;position: relative;background-color: white;}#sk-container-id-1 div.sk-parallel-item:first-child::after {align-self: flex-end;width: 50%;}#sk-container-id-1 div.sk-parallel-item:last-child::after {align-self: flex-start;width: 50%;}#sk-container-id-1 div.sk-parallel-item:only-child::after {width: 0;}#sk-container-id-1 div.sk-dashed-wrapped {border: 1px dashed gray;margin: 0 0.4em 0.5em 0.4em;box-sizing: border-box;padding-bottom: 0.4em;background-color: white;}#sk-container-id-1 div.sk-label label {font-family: monospace;font-weight: bold;display: inline-block;line-height: 1.2em;}#sk-container-id-1 div.sk-label-container {text-align: center;}#sk-container-id-1 div.sk-container {/* jupyter's `normalize.less` sets `[hidden] { display: none; }` but bootstrap.min.css set `[hidden] { display: none !important; }` so we also need the `!important` here to be able to override the default hidden behavior on the sphinx rendered scikit-learn.org. See: https://github.com/scikit-learn/scikit-learn/issues/21755 */display: inline-block !important;position: relative;}#sk-container-id-1 div.sk-text-repr-fallback {display: none;}</style><div id=\"sk-container-id-1\" class=\"sk-top-container\"><div class=\"sk-text-repr-fallback\"><pre>Ridge()</pre><b>In a Jupyter environment, please rerun this cell to show the HTML representation or trust the notebook. <br />On GitHub, the HTML representation is unable to render, please try loading this page with nbviewer.org.</b></div><div class=\"sk-container\" hidden><div class=\"sk-item\"><div class=\"sk-estimator sk-toggleable\"><input class=\"sk-toggleable__control sk-hidden--visually\" id=\"sk-estimator-id-1\" type=\"checkbox\" checked><label for=\"sk-estimator-id-1\" class=\"sk-toggleable__label sk-toggleable__label-arrow\">Ridge</label><div class=\"sk-toggleable__content\"><pre>Ridge()</pre></div></div></div></div></div>"
      ],
      "text/plain": [
       "Ridge()"
      ]
     },
     "execution_count": 12,
     "metadata": {},
     "output_type": "execute_result"
    }
   ],
   "source": [
    "X = df.drop(['price'], axis = 1)\n",
    "y = df['price']\n",
    "\n",
    "clf = Ridge(alpha = 1.0)\n",
    "clf.fit(X, y)"
   ]
  },
  {
   "cell_type": "code",
   "execution_count": 117,
   "id": "b633ab46",
   "metadata": {},
   "outputs": [
    {
     "data": {
      "text/plain": [
       "array([ 6.47998526e-01,  7.42184081e+00,  5.81175153e-04,  9.80882362e-03,\n",
       "        3.77264669e-01,  1.62538772e+02, -4.63797186e+01, -7.41719334e+00,\n",
       "       -3.30009033e+01])"
      ]
     },
     "execution_count": 117,
     "metadata": {},
     "output_type": "execute_result"
    }
   ],
   "source": [
    "clf.coef_"
   ]
  },
  {
   "cell_type": "code",
   "execution_count": 118,
   "id": "71a58c67",
   "metadata": {},
   "outputs": [
    {
     "data": {
      "text/plain": [
       "-297.24614382405616"
      ]
     },
     "execution_count": 118,
     "metadata": {},
     "output_type": "execute_result"
    }
   ],
   "source": [
    "clf.intercept_"
   ]
  },
  {
   "cell_type": "code",
   "execution_count": 119,
   "id": "e424945f",
   "metadata": {},
   "outputs": [
    {
     "data": {
      "text/plain": [
       "array([ 1.23304328e+00,  2.65206573e+00,  3.45239232e-05,  8.14632004e-03,\n",
       "       -4.10046110e-01,  2.76094173e+02, -3.96819396e+02,  1.75482492e+00,\n",
       "       -3.95321970e+00])"
      ]
     },
     "execution_count": 119,
     "metadata": {},
     "output_type": "execute_result"
    }
   ],
   "source": [
    "lm.coef_"
   ]
  },
  {
   "cell_type": "code",
   "execution_count": 120,
   "id": "c18067e5",
   "metadata": {},
   "outputs": [
    {
     "data": {
      "text/plain": [
       "606.3668534382923"
      ]
     },
     "execution_count": 120,
     "metadata": {},
     "output_type": "execute_result"
    }
   ],
   "source": [
    "lm.intercept_"
   ]
  },
  {
   "cell_type": "code",
   "execution_count": 121,
   "id": "6042b868",
   "metadata": {},
   "outputs": [
    {
     "data": {
      "text/plain": [
       "array([319.97294845, 348.26247731, 184.70675215, 194.23434526,\n",
       "       339.85266007, 431.4971009 , 339.59261464, 300.10849179,\n",
       "       200.11190227, 236.81645838, 294.29642571, 361.74971575,\n",
       "       403.12643728, 223.6152896 , 261.75747149, 224.99565091,\n",
       "       262.78964494, 285.6385433 , 262.09799778, 315.89207378,\n",
       "       267.7767175 , 280.653673  , 241.88598767, 144.53631543,\n",
       "       233.80952301, 273.06346836, 230.78811322, 340.41068438,\n",
       "       484.26716424, 348.79280158, 220.59365283, 353.70395697,\n",
       "       228.81528678, 235.69670985, 353.68419673, 187.12793991,\n",
       "       402.11113425, 521.72783808, 234.38032089, 224.43459896,\n",
       "       249.94344378, 637.46035458, 255.85638497, 215.68450156,\n",
       "       366.49693058, 247.8662668 , 315.77704714, 438.6047792 ,\n",
       "       245.8671115 , 297.9387178 , 276.02537912, 249.33277079,\n",
       "       191.99444344, 171.65970969, 246.24368853, 261.17119172,\n",
       "       208.98618501, 267.40651375, 283.85828427, 311.29703898,\n",
       "       241.52282939, 274.43470439, 301.95910931, 469.97209021,\n",
       "       355.83996404, 504.6525234 , 303.80903226, 445.94359829,\n",
       "       376.83358155, 225.3843437 , 236.60149572, 234.35460134,\n",
       "       671.57153676, 239.21558245, 329.06345117, 328.43558202,\n",
       "       337.14693278, 333.59882584, 254.20214921, 225.33009231,\n",
       "        96.54632706, 250.49825305, 265.78652955, 297.63485788,\n",
       "       233.53476077, 209.16259719, 208.04477226, 242.12504747])"
      ]
     },
     "execution_count": 121,
     "metadata": {},
     "output_type": "execute_result"
    }
   ],
   "source": [
    "clf.predict(X)"
   ]
  },
  {
   "cell_type": "code",
   "execution_count": 122,
   "id": "ccf11de1",
   "metadata": {},
   "outputs": [
    {
     "data": {
      "text/plain": [
       "293.5460340909091"
      ]
     },
     "execution_count": 122,
     "metadata": {},
     "output_type": "execute_result"
    }
   ],
   "source": [
    "clf.predict(X).mean()"
   ]
  },
  {
   "cell_type": "code",
   "execution_count": 123,
   "id": "579504ca",
   "metadata": {},
   "outputs": [
    {
     "data": {
      "text/plain": [
       "293.54603409090885"
      ]
     },
     "execution_count": 123,
     "metadata": {},
     "output_type": "execute_result"
    }
   ],
   "source": [
    "lm.predict(X).mean()"
   ]
  },
  {
   "cell_type": "code",
   "execution_count": 124,
   "id": "672ae8b3",
   "metadata": {},
   "outputs": [
    {
     "data": {
      "text/plain": [
       "9223.233577859895"
      ]
     },
     "execution_count": 124,
     "metadata": {},
     "output_type": "execute_result"
    }
   ],
   "source": [
    "clf.predict(X).var()"
   ]
  },
  {
   "cell_type": "code",
   "execution_count": 125,
   "id": "5dd7e435",
   "metadata": {},
   "outputs": [
    {
     "data": {
      "text/plain": [
       "10282.185880371808"
      ]
     },
     "execution_count": 125,
     "metadata": {},
     "output_type": "execute_result"
    }
   ],
   "source": [
    "lm.predict(X).var()"
   ]
  },
  {
   "cell_type": "code",
   "execution_count": 126,
   "id": "345b4305",
   "metadata": {},
   "outputs": [
    {
     "data": {
      "text/html": [
       "<style>#sk-container-id-7 {color: black;background-color: white;}#sk-container-id-7 pre{padding: 0;}#sk-container-id-7 div.sk-toggleable {background-color: white;}#sk-container-id-7 label.sk-toggleable__label {cursor: pointer;display: block;width: 100%;margin-bottom: 0;padding: 0.3em;box-sizing: border-box;text-align: center;}#sk-container-id-7 label.sk-toggleable__label-arrow:before {content: \"▸\";float: left;margin-right: 0.25em;color: #696969;}#sk-container-id-7 label.sk-toggleable__label-arrow:hover:before {color: black;}#sk-container-id-7 div.sk-estimator:hover label.sk-toggleable__label-arrow:before {color: black;}#sk-container-id-7 div.sk-toggleable__content {max-height: 0;max-width: 0;overflow: hidden;text-align: left;background-color: #f0f8ff;}#sk-container-id-7 div.sk-toggleable__content pre {margin: 0.2em;color: black;border-radius: 0.25em;background-color: #f0f8ff;}#sk-container-id-7 input.sk-toggleable__control:checked~div.sk-toggleable__content {max-height: 200px;max-width: 100%;overflow: auto;}#sk-container-id-7 input.sk-toggleable__control:checked~label.sk-toggleable__label-arrow:before {content: \"▾\";}#sk-container-id-7 div.sk-estimator input.sk-toggleable__control:checked~label.sk-toggleable__label {background-color: #d4ebff;}#sk-container-id-7 div.sk-label input.sk-toggleable__control:checked~label.sk-toggleable__label {background-color: #d4ebff;}#sk-container-id-7 input.sk-hidden--visually {border: 0;clip: rect(1px 1px 1px 1px);clip: rect(1px, 1px, 1px, 1px);height: 1px;margin: -1px;overflow: hidden;padding: 0;position: absolute;width: 1px;}#sk-container-id-7 div.sk-estimator {font-family: monospace;background-color: #f0f8ff;border: 1px dotted black;border-radius: 0.25em;box-sizing: border-box;margin-bottom: 0.5em;}#sk-container-id-7 div.sk-estimator:hover {background-color: #d4ebff;}#sk-container-id-7 div.sk-parallel-item::after {content: \"\";width: 100%;border-bottom: 1px solid gray;flex-grow: 1;}#sk-container-id-7 div.sk-label:hover label.sk-toggleable__label {background-color: #d4ebff;}#sk-container-id-7 div.sk-serial::before {content: \"\";position: absolute;border-left: 1px solid gray;box-sizing: border-box;top: 0;bottom: 0;left: 50%;z-index: 0;}#sk-container-id-7 div.sk-serial {display: flex;flex-direction: column;align-items: center;background-color: white;padding-right: 0.2em;padding-left: 0.2em;position: relative;}#sk-container-id-7 div.sk-item {position: relative;z-index: 1;}#sk-container-id-7 div.sk-parallel {display: flex;align-items: stretch;justify-content: center;background-color: white;position: relative;}#sk-container-id-7 div.sk-item::before, #sk-container-id-7 div.sk-parallel-item::before {content: \"\";position: absolute;border-left: 1px solid gray;box-sizing: border-box;top: 0;bottom: 0;left: 50%;z-index: -1;}#sk-container-id-7 div.sk-parallel-item {display: flex;flex-direction: column;z-index: 1;position: relative;background-color: white;}#sk-container-id-7 div.sk-parallel-item:first-child::after {align-self: flex-end;width: 50%;}#sk-container-id-7 div.sk-parallel-item:last-child::after {align-self: flex-start;width: 50%;}#sk-container-id-7 div.sk-parallel-item:only-child::after {width: 0;}#sk-container-id-7 div.sk-dashed-wrapped {border: 1px dashed gray;margin: 0 0.4em 0.5em 0.4em;box-sizing: border-box;padding-bottom: 0.4em;background-color: white;}#sk-container-id-7 div.sk-label label {font-family: monospace;font-weight: bold;display: inline-block;line-height: 1.2em;}#sk-container-id-7 div.sk-label-container {text-align: center;}#sk-container-id-7 div.sk-container {/* jupyter's `normalize.less` sets `[hidden] { display: none; }` but bootstrap.min.css set `[hidden] { display: none !important; }` so we also need the `!important` here to be able to override the default hidden behavior on the sphinx rendered scikit-learn.org. See: https://github.com/scikit-learn/scikit-learn/issues/21755 */display: inline-block !important;position: relative;}#sk-container-id-7 div.sk-text-repr-fallback {display: none;}</style><div id=\"sk-container-id-7\" class=\"sk-top-container\"><div class=\"sk-text-repr-fallback\"><pre>RidgeCV(alphas=array([1.00000000e-01, 6.00400400e-01, 1.10080080e+00, 1.60120120e+00,\n",
       "       2.10160160e+00, 2.60200200e+00, 3.10240240e+00, 3.60280280e+00,\n",
       "       4.10320320e+00, 4.60360360e+00, 5.10400400e+00, 5.60440440e+00,\n",
       "       6.10480480e+00, 6.60520521e+00, 7.10560561e+00, 7.60600601e+00,\n",
       "       8.10640641e+00, 8.60680681e+00, 9.10720721e+00, 9.60760761e+00,\n",
       "       1.01080080e+01, 1.06084084e+0...\n",
       "       4.88490791e+02, 4.88991191e+02, 4.89491592e+02, 4.89991992e+02,\n",
       "       4.90492392e+02, 4.90992793e+02, 4.91493193e+02, 4.91993594e+02,\n",
       "       4.92493994e+02, 4.92994394e+02, 4.93494795e+02, 4.93995195e+02,\n",
       "       4.94495596e+02, 4.94995996e+02, 4.95496396e+02, 4.95996797e+02,\n",
       "       4.96497197e+02, 4.96997598e+02, 4.97497998e+02, 4.97998398e+02,\n",
       "       4.98498799e+02, 4.98999199e+02, 4.99499600e+02, 5.00000000e+02]),\n",
       "        store_cv_values=True)</pre><b>In a Jupyter environment, please rerun this cell to show the HTML representation or trust the notebook. <br />On GitHub, the HTML representation is unable to render, please try loading this page with nbviewer.org.</b></div><div class=\"sk-container\" hidden><div class=\"sk-item\"><div class=\"sk-estimator sk-toggleable\"><input class=\"sk-toggleable__control sk-hidden--visually\" id=\"sk-estimator-id-7\" type=\"checkbox\" checked><label for=\"sk-estimator-id-7\" class=\"sk-toggleable__label sk-toggleable__label-arrow\">RidgeCV</label><div class=\"sk-toggleable__content\"><pre>RidgeCV(alphas=array([1.00000000e-01, 6.00400400e-01, 1.10080080e+00, 1.60120120e+00,\n",
       "       2.10160160e+00, 2.60200200e+00, 3.10240240e+00, 3.60280280e+00,\n",
       "       4.10320320e+00, 4.60360360e+00, 5.10400400e+00, 5.60440440e+00,\n",
       "       6.10480480e+00, 6.60520521e+00, 7.10560561e+00, 7.60600601e+00,\n",
       "       8.10640641e+00, 8.60680681e+00, 9.10720721e+00, 9.60760761e+00,\n",
       "       1.01080080e+01, 1.06084084e+0...\n",
       "       4.88490791e+02, 4.88991191e+02, 4.89491592e+02, 4.89991992e+02,\n",
       "       4.90492392e+02, 4.90992793e+02, 4.91493193e+02, 4.91993594e+02,\n",
       "       4.92493994e+02, 4.92994394e+02, 4.93494795e+02, 4.93995195e+02,\n",
       "       4.94495596e+02, 4.94995996e+02, 4.95496396e+02, 4.95996797e+02,\n",
       "       4.96497197e+02, 4.96997598e+02, 4.97497998e+02, 4.97998398e+02,\n",
       "       4.98498799e+02, 4.98999199e+02, 4.99499600e+02, 5.00000000e+02]),\n",
       "        store_cv_values=True)</pre></div></div></div></div></div>"
      ],
      "text/plain": [
       "RidgeCV(alphas=array([1.00000000e-01, 6.00400400e-01, 1.10080080e+00, 1.60120120e+00,\n",
       "       2.10160160e+00, 2.60200200e+00, 3.10240240e+00, 3.60280280e+00,\n",
       "       4.10320320e+00, 4.60360360e+00, 5.10400400e+00, 5.60440440e+00,\n",
       "       6.10480480e+00, 6.60520521e+00, 7.10560561e+00, 7.60600601e+00,\n",
       "       8.10640641e+00, 8.60680681e+00, 9.10720721e+00, 9.60760761e+00,\n",
       "       1.01080080e+01, 1.06084084e+0...\n",
       "       4.88490791e+02, 4.88991191e+02, 4.89491592e+02, 4.89991992e+02,\n",
       "       4.90492392e+02, 4.90992793e+02, 4.91493193e+02, 4.91993594e+02,\n",
       "       4.92493994e+02, 4.92994394e+02, 4.93494795e+02, 4.93995195e+02,\n",
       "       4.94495596e+02, 4.94995996e+02, 4.95496396e+02, 4.95996797e+02,\n",
       "       4.96497197e+02, 4.96997598e+02, 4.97497998e+02, 4.97998398e+02,\n",
       "       4.98498799e+02, 4.98999199e+02, 4.99499600e+02, 5.00000000e+02]),\n",
       "        store_cv_values=True)"
      ]
     },
     "execution_count": 126,
     "metadata": {},
     "output_type": "execute_result"
    }
   ],
   "source": [
    "clf = linear_model.RidgeCV(alphas=np.linspace(0.1,500,1000),store_cv_values=True,cv=None)\n",
    "clf.fit(X,y)"
   ]
  },
  {
   "cell_type": "code",
   "execution_count": 127,
   "id": "79961933",
   "metadata": {},
   "outputs": [
    {
     "data": {
      "text/plain": [
       "array([ 8.70182474e-01,  4.57359080e+00,  2.66885385e-04,  3.14329372e-02,\n",
       "       -6.16599144e-01,  2.48156490e+02, -2.22083256e+02, -3.47825815e+00,\n",
       "       -7.06904435e+01])"
      ]
     },
     "execution_count": 127,
     "metadata": {},
     "output_type": "execute_result"
    }
   ],
   "source": [
    "clf.coef_"
   ]
  },
  {
   "cell_type": "code",
   "execution_count": 128,
   "id": "4e5096c5",
   "metadata": {},
   "outputs": [
    {
     "data": {
      "text/plain": [
       "375.4480360048375"
      ]
     },
     "execution_count": 128,
     "metadata": {},
     "output_type": "execute_result"
    }
   ],
   "source": [
    "clf.intercept_"
   ]
  },
  {
   "cell_type": "code",
   "execution_count": 129,
   "id": "5e3de338",
   "metadata": {},
   "outputs": [
    {
     "data": {
      "text/plain": [
       "0.1"
      ]
     },
     "execution_count": 129,
     "metadata": {},
     "output_type": "execute_result"
    }
   ],
   "source": [
    "clf.alpha_"
   ]
  },
  {
   "cell_type": "code",
   "execution_count": 130,
   "id": "183f8fe7",
   "metadata": {},
   "outputs": [
    {
     "data": {
      "text/plain": [
       "array([ 1.23304328e+00,  2.65206573e+00,  3.45239232e-05,  8.14632004e-03,\n",
       "       -4.10046110e-01,  2.76094173e+02, -3.96819396e+02,  1.75482492e+00,\n",
       "       -3.95321970e+00])"
      ]
     },
     "execution_count": 130,
     "metadata": {},
     "output_type": "execute_result"
    }
   ],
   "source": [
    "lm.coef_"
   ]
  },
  {
   "cell_type": "code",
   "execution_count": 131,
   "id": "4269be28",
   "metadata": {},
   "outputs": [
    {
     "data": {
      "text/plain": [
       "606.3668534382923"
      ]
     },
     "execution_count": 131,
     "metadata": {},
     "output_type": "execute_result"
    }
   ],
   "source": [
    "lm.intercept_"
   ]
  },
  {
   "cell_type": "code",
   "execution_count": 132,
   "id": "295c0b68",
   "metadata": {},
   "outputs": [
    {
     "data": {
      "text/plain": [
       "array([308.58697051, 355.94491285, 190.53575472, 192.27895405,\n",
       "       356.71239115, 442.17314034, 333.659151  , 309.04554989,\n",
       "       201.5753787 , 239.64868809, 288.70157067, 333.06030075,\n",
       "       409.70768551, 207.89682026, 262.41925763, 231.50377408,\n",
       "       245.57142777, 284.33238634, 271.3219815 , 312.43842282,\n",
       "       264.673935  , 271.14800964, 225.15764018, 131.70424663,\n",
       "       249.30482999, 273.79385672, 227.18847657, 339.28100739,\n",
       "       487.72149044, 347.72915963, 237.44916455, 347.12007201,\n",
       "       252.58261574, 236.89988333, 355.34710104, 190.75078505,\n",
       "       386.71987802, 545.74654531, 209.5153679 , 222.44755084,\n",
       "       246.14791914, 661.40531146, 252.27172095, 242.43774905,\n",
       "       369.33797073, 262.40625449, 316.22137395, 442.72786876,\n",
       "       253.99768823, 312.30831741, 265.46983187, 253.03365991,\n",
       "       216.5628605 , 168.58056085, 248.50670012, 254.09935998,\n",
       "       210.59154671, 261.53619959, 286.10884306, 315.20285505,\n",
       "       226.62756634, 271.02726123, 320.86680939, 469.14202934,\n",
       "       344.63337566, 503.70060057, 288.35157286, 425.06331097,\n",
       "       356.02094094, 218.57861722, 214.53970468, 240.88992736,\n",
       "       699.07203423, 229.49014878, 314.96858189, 383.96681137,\n",
       "       329.37055538, 329.53015836, 248.53943733, 229.46609062,\n",
       "        60.31779228, 264.66098601, 248.72913895, 294.69213671,\n",
       "       235.21967802, 198.68959071, 222.35321141, 245.19220503])"
      ]
     },
     "execution_count": 132,
     "metadata": {},
     "output_type": "execute_result"
    }
   ],
   "source": [
    "clf.predict(X)"
   ]
  },
  {
   "cell_type": "code",
   "execution_count": 133,
   "id": "37558d93",
   "metadata": {},
   "outputs": [
    {
     "data": {
      "text/plain": [
       "293.5460340909089"
      ]
     },
     "execution_count": 133,
     "metadata": {},
     "output_type": "execute_result"
    }
   ],
   "source": [
    "clf.predict(X).mean()"
   ]
  },
  {
   "cell_type": "code",
   "execution_count": 134,
   "id": "58f766b6",
   "metadata": {},
   "outputs": [
    {
     "data": {
      "text/plain": [
       "293.54603409090885"
      ]
     },
     "execution_count": 134,
     "metadata": {},
     "output_type": "execute_result"
    }
   ],
   "source": [
    "lm.predict(X).mean()"
   ]
  },
  {
   "cell_type": "code",
   "execution_count": 135,
   "id": "7b660c92",
   "metadata": {},
   "outputs": [
    {
     "data": {
      "text/plain": [
       "9972.105808882454"
      ]
     },
     "execution_count": 135,
     "metadata": {},
     "output_type": "execute_result"
    }
   ],
   "source": [
    "clf.predict(X).var()"
   ]
  },
  {
   "cell_type": "code",
   "execution_count": 136,
   "id": "69bd8011",
   "metadata": {},
   "outputs": [
    {
     "data": {
      "text/plain": [
       "10282.185880371808"
      ]
     },
     "execution_count": 136,
     "metadata": {},
     "output_type": "execute_result"
    }
   ],
   "source": [
    "lm.predict(X).var()"
   ]
  },
  {
   "cell_type": "code",
   "execution_count": 137,
   "id": "8e76f28b",
   "metadata": {},
   "outputs": [
    {
     "data": {
      "text/plain": [
       "[<matplotlib.lines.Line2D at 0x7ffc1825c520>]"
      ]
     },
     "execution_count": 137,
     "metadata": {},
     "output_type": "execute_result"
    },
    {
     "data": {
      "image/png": "[encoded data removed]",
      "text/plain": [
       "<Figure size 640x480 with 1 Axes>"
      ]
     },
     "metadata": {},
     "output_type": "display_data"
    }
   ],
   "source": [
    "plt.plot(np.linspace(0.1,500,1000),clf.cv_values_.mean(0))"
   ]
  },
  {
   "cell_type": "markdown",
   "id": "151e8e7d",
   "metadata": {},
   "source": [
    "## Lasso Regression"
   ]
  },
  {
   "cell_type": "code",
   "execution_count": 13,
   "id": "1d486854",
   "metadata": {},
   "outputs": [
    {
     "data": {
      "text/html": [
       "<style>#sk-container-id-2 {color: black;background-color: white;}#sk-container-id-2 pre{padding: 0;}#sk-container-id-2 div.sk-toggleable {background-color: white;}#sk-container-id-2 label.sk-toggleable__label {cursor: pointer;display: block;width: 100%;margin-bottom: 0;padding: 0.3em;box-sizing: border-box;text-align: center;}#sk-container-id-2 label.sk-toggleable__label-arrow:before {content: \"▸\";float: left;margin-right: 0.25em;color: #696969;}#sk-container-id-2 label.sk-toggleable__label-arrow:hover:before {color: black;}#sk-container-id-2 div.sk-estimator:hover label.sk-toggleable__label-arrow:before {color: black;}#sk-container-id-2 div.sk-toggleable__content {max-height: 0;max-width: 0;overflow: hidden;text-align: left;background-color: #f0f8ff;}#sk-container-id-2 div.sk-toggleable__content pre {margin: 0.2em;color: black;border-radius: 0.25em;background-color: #f0f8ff;}#sk-container-id-2 input.sk-toggleable__control:checked~div.sk-toggleable__content {max-height: 200px;max-width: 100%;overflow: auto;}#sk-container-id-2 input.sk-toggleable__control:checked~label.sk-toggleable__label-arrow:before {content: \"▾\";}#sk-container-id-2 div.sk-estimator input.sk-toggleable__control:checked~label.sk-toggleable__label {background-color: #d4ebff;}#sk-container-id-2 div.sk-label input.sk-toggleable__control:checked~label.sk-toggleable__label {background-color: #d4ebff;}#sk-container-id-2 input.sk-hidden--visually {border: 0;clip: rect(1px 1px 1px 1px);clip: rect(1px, 1px, 1px, 1px);height: 1px;margin: -1px;overflow: hidden;padding: 0;position: absolute;width: 1px;}#sk-container-id-2 div.sk-estimator {font-family: monospace;background-color: #f0f8ff;border: 1px dotted black;border-radius: 0.25em;box-sizing: border-box;margin-bottom: 0.5em;}#sk-container-id-2 div.sk-estimator:hover {background-color: #d4ebff;}#sk-container-id-2 div.sk-parallel-item::after {content: \"\";width: 100%;border-bottom: 1px solid gray;flex-grow: 1;}#sk-container-id-2 div.sk-label:hover label.sk-toggleable__label {background-color: #d4ebff;}#sk-container-id-2 div.sk-serial::before {content: \"\";position: absolute;border-left: 1px solid gray;box-sizing: border-box;top: 0;bottom: 0;left: 50%;z-index: 0;}#sk-container-id-2 div.sk-serial {display: flex;flex-direction: column;align-items: center;background-color: white;padding-right: 0.2em;padding-left: 0.2em;position: relative;}#sk-container-id-2 div.sk-item {position: relative;z-index: 1;}#sk-container-id-2 div.sk-parallel {display: flex;align-items: stretch;justify-content: center;background-color: white;position: relative;}#sk-container-id-2 div.sk-item::before, #sk-container-id-2 div.sk-parallel-item::before {content: \"\";position: absolute;border-left: 1px solid gray;box-sizing: border-box;top: 0;bottom: 0;left: 50%;z-index: -1;}#sk-container-id-2 div.sk-parallel-item {display: flex;flex-direction: column;z-index: 1;position: relative;background-color: white;}#sk-container-id-2 div.sk-parallel-item:first-child::after {align-self: flex-end;width: 50%;}#sk-container-id-2 div.sk-parallel-item:last-child::after {align-self: flex-start;width: 50%;}#sk-container-id-2 div.sk-parallel-item:only-child::after {width: 0;}#sk-container-id-2 div.sk-dashed-wrapped {border: 1px dashed gray;margin: 0 0.4em 0.5em 0.4em;box-sizing: border-box;padding-bottom: 0.4em;background-color: white;}#sk-container-id-2 div.sk-label label {font-family: monospace;font-weight: bold;display: inline-block;line-height: 1.2em;}#sk-container-id-2 div.sk-label-container {text-align: center;}#sk-container-id-2 div.sk-container {/* jupyter's `normalize.less` sets `[hidden] { display: none; }` but bootstrap.min.css set `[hidden] { display: none !important; }` so we also need the `!important` here to be able to override the default hidden behavior on the sphinx rendered scikit-learn.org. See: https://github.com/scikit-learn/scikit-learn/issues/21755 */display: inline-block !important;position: relative;}#sk-container-id-2 div.sk-text-repr-fallback {display: none;}</style><div id=\"sk-container-id-2\" class=\"sk-top-container\"><div class=\"sk-text-repr-fallback\"><pre>Lasso(alpha=0.1)</pre><b>In a Jupyter environment, please rerun this cell to show the HTML representation or trust the notebook. <br />On GitHub, the HTML representation is unable to render, please try loading this page with nbviewer.org.</b></div><div class=\"sk-container\" hidden><div class=\"sk-item\"><div class=\"sk-estimator sk-toggleable\"><input class=\"sk-toggleable__control sk-hidden--visually\" id=\"sk-estimator-id-2\" type=\"checkbox\" checked><label for=\"sk-estimator-id-2\" class=\"sk-toggleable__label sk-toggleable__label-arrow\">Lasso</label><div class=\"sk-toggleable__content\"><pre>Lasso(alpha=0.1)</pre></div></div></div></div></div>"
      ],
      "text/plain": [
       "Lasso(alpha=0.1)"
      ]
     },
     "execution_count": 13,
     "metadata": {},
     "output_type": "execute_result"
    }
   ],
   "source": [
    "clf = linear_model.Lasso(alpha=0.1)\n",
    "clf.fit(X, y)"
   ]
  },
  {
   "cell_type": "code",
   "execution_count": 14,
   "id": "79fa599e",
   "metadata": {},
   "outputs": [
    {
     "data": {
      "text/plain": [
       "array([ 1.12893685e+00,  3.05007801e+00,  1.20151390e-04,  4.47031997e-03,\n",
       "       -4.47432559e-01,  2.67458869e+02, -3.45323034e+02,  0.00000000e+00,\n",
       "       -0.00000000e+00])"
      ]
     },
     "execution_count": 14,
     "metadata": {},
     "output_type": "execute_result"
    }
   ],
   "source": [
    "clf.coef_"
   ]
  },
  {
   "cell_type": "code",
   "execution_count": 15,
   "id": "da9ac437",
   "metadata": {},
   "outputs": [
    {
     "data": {
      "text/plain": [
       "384.35183192204533"
      ]
     },
     "execution_count": 15,
     "metadata": {},
     "output_type": "execute_result"
    }
   ],
   "source": [
    "clf.intercept_"
   ]
  },
  {
   "cell_type": "code",
   "execution_count": 16,
   "id": "d6b27270",
   "metadata": {},
   "outputs": [
    {
     "data": {
      "text/html": [
       "<style>#sk-container-id-3 {color: black;background-color: white;}#sk-container-id-3 pre{padding: 0;}#sk-container-id-3 div.sk-toggleable {background-color: white;}#sk-container-id-3 label.sk-toggleable__label {cursor: pointer;display: block;width: 100%;margin-bottom: 0;padding: 0.3em;box-sizing: border-box;text-align: center;}#sk-container-id-3 label.sk-toggleable__label-arrow:before {content: \"▸\";float: left;margin-right: 0.25em;color: #696969;}#sk-container-id-3 label.sk-toggleable__label-arrow:hover:before {color: black;}#sk-container-id-3 div.sk-estimator:hover label.sk-toggleable__label-arrow:before {color: black;}#sk-container-id-3 div.sk-toggleable__content {max-height: 0;max-width: 0;overflow: hidden;text-align: left;background-color: #f0f8ff;}#sk-container-id-3 div.sk-toggleable__content pre {margin: 0.2em;color: black;border-radius: 0.25em;background-color: #f0f8ff;}#sk-container-id-3 input.sk-toggleable__control:checked~div.sk-toggleable__content {max-height: 200px;max-width: 100%;overflow: auto;}#sk-container-id-3 input.sk-toggleable__control:checked~label.sk-toggleable__label-arrow:before {content: \"▾\";}#sk-container-id-3 div.sk-estimator input.sk-toggleable__control:checked~label.sk-toggleable__label {background-color: #d4ebff;}#sk-container-id-3 div.sk-label input.sk-toggleable__control:checked~label.sk-toggleable__label {background-color: #d4ebff;}#sk-container-id-3 input.sk-hidden--visually {border: 0;clip: rect(1px 1px 1px 1px);clip: rect(1px, 1px, 1px, 1px);height: 1px;margin: -1px;overflow: hidden;padding: 0;position: absolute;width: 1px;}#sk-container-id-3 div.sk-estimator {font-family: monospace;background-color: #f0f8ff;border: 1px dotted black;border-radius: 0.25em;box-sizing: border-box;margin-bottom: 0.5em;}#sk-container-id-3 div.sk-estimator:hover {background-color: #d4ebff;}#sk-container-id-3 div.sk-parallel-item::after {content: \"\";width: 100%;border-bottom: 1px solid gray;flex-grow: 1;}#sk-container-id-3 div.sk-label:hover label.sk-toggleable__label {background-color: #d4ebff;}#sk-container-id-3 div.sk-serial::before {content: \"\";position: absolute;border-left: 1px solid gray;box-sizing: border-box;top: 0;bottom: 0;left: 50%;z-index: 0;}#sk-container-id-3 div.sk-serial {display: flex;flex-direction: column;align-items: center;background-color: white;padding-right: 0.2em;padding-left: 0.2em;position: relative;}#sk-container-id-3 div.sk-item {position: relative;z-index: 1;}#sk-container-id-3 div.sk-parallel {display: flex;align-items: stretch;justify-content: center;background-color: white;position: relative;}#sk-container-id-3 div.sk-item::before, #sk-container-id-3 div.sk-parallel-item::before {content: \"\";position: absolute;border-left: 1px solid gray;box-sizing: border-box;top: 0;bottom: 0;left: 50%;z-index: -1;}#sk-container-id-3 div.sk-parallel-item {display: flex;flex-direction: column;z-index: 1;position: relative;background-color: white;}#sk-container-id-3 div.sk-parallel-item:first-child::after {align-self: flex-end;width: 50%;}#sk-container-id-3 div.sk-parallel-item:last-child::after {align-self: flex-start;width: 50%;}#sk-container-id-3 div.sk-parallel-item:only-child::after {width: 0;}#sk-container-id-3 div.sk-dashed-wrapped {border: 1px dashed gray;margin: 0 0.4em 0.5em 0.4em;box-sizing: border-box;padding-bottom: 0.4em;background-color: white;}#sk-container-id-3 div.sk-label label {font-family: monospace;font-weight: bold;display: inline-block;line-height: 1.2em;}#sk-container-id-3 div.sk-label-container {text-align: center;}#sk-container-id-3 div.sk-container {/* jupyter's `normalize.less` sets `[hidden] { display: none; }` but bootstrap.min.css set `[hidden] { display: none !important; }` so we also need the `!important` here to be able to override the default hidden behavior on the sphinx rendered scikit-learn.org. See: https://github.com/scikit-learn/scikit-learn/issues/21755 */display: inline-block !important;position: relative;}#sk-container-id-3 div.sk-text-repr-fallback {display: none;}</style><div id=\"sk-container-id-3\" class=\"sk-top-container\"><div class=\"sk-text-repr-fallback\"><pre>LinearRegression()</pre><b>In a Jupyter environment, please rerun this cell to show the HTML representation or trust the notebook. <br />On GitHub, the HTML representation is unable to render, please try loading this page with nbviewer.org.</b></div><div class=\"sk-container\" hidden><div class=\"sk-item\"><div class=\"sk-estimator sk-toggleable\"><input class=\"sk-toggleable__control sk-hidden--visually\" id=\"sk-estimator-id-3\" type=\"checkbox\" checked><label for=\"sk-estimator-id-3\" class=\"sk-toggleable__label sk-toggleable__label-arrow\">LinearRegression</label><div class=\"sk-toggleable__content\"><pre>LinearRegression()</pre></div></div></div></div></div>"
      ],
      "text/plain": [
       "LinearRegression()"
      ]
     },
     "execution_count": 16,
     "metadata": {},
     "output_type": "execute_result"
    }
   ],
   "source": [
    "lm = linear_model.LinearRegression()\n",
    "lm.fit(X,y)"
   ]
  },
  {
   "cell_type": "code",
   "execution_count": 17,
   "id": "49407c35",
   "metadata": {},
   "outputs": [
    {
     "data": {
      "text/plain": [
       "array([ 1.23304328e+00,  2.65206573e+00,  3.45239232e-05,  8.14632004e-03,\n",
       "       -4.10046110e-01,  2.76094173e+02, -3.96819396e+02,  1.75482492e+00,\n",
       "       -3.95321970e+00])"
      ]
     },
     "execution_count": 17,
     "metadata": {},
     "output_type": "execute_result"
    }
   ],
   "source": [
    "lm.coef_"
   ]
  },
  {
   "cell_type": "code",
   "execution_count": 18,
   "id": "6bd3b9ef",
   "metadata": {},
   "outputs": [
    {
     "data": {
      "text/plain": [
       "606.3668534382923"
      ]
     },
     "execution_count": 18,
     "metadata": {},
     "output_type": "execute_result"
    }
   ],
   "source": [
    "lm.intercept_"
   ]
  },
  {
   "cell_type": "code",
   "execution_count": 19,
   "id": "4c81dd73",
   "metadata": {},
   "outputs": [
    {
     "data": {
      "text/plain": [
       "array([302.82562346, 356.97641093, 194.57684333, 192.53143691,\n",
       "       362.110262  , 442.49958917, 329.32823913, 308.85363643,\n",
       "       208.42715824, 242.28309541, 286.73040142, 320.10364535,\n",
       "       409.10689694, 203.87895116, 266.31073784, 238.40403929,\n",
       "       238.07188022, 281.33048256, 267.71484807, 307.45439993,\n",
       "       264.45227367, 268.22084598, 217.1300216 , 138.64799817,\n",
       "       255.62128138, 273.56675403, 229.25937602, 336.93183263,\n",
       "       481.44158582, 344.5214447 , 248.99424592, 343.61383495,\n",
       "       267.48647449, 241.36730958, 352.94088903, 200.03337779,\n",
       "       380.91801527, 548.69987785, 200.25475309, 217.98341911,\n",
       "       243.24000335, 681.90038864, 249.37934447, 248.32959395,\n",
       "       366.81663641, 271.77501259, 309.7835882 , 437.1482557 ,\n",
       "       255.5552748 , 313.98853907, 260.85281136, 251.49695389,\n",
       "       233.3203139 , 178.36682812, 250.82186604, 250.11661127,\n",
       "       216.50497657, 258.76532854, 286.31969683, 315.51929204,\n",
       "       216.82401918, 265.84946958, 319.64833078, 469.20661862,\n",
       "       338.35439985, 507.87465261, 279.6756059 , 421.298844  ,\n",
       "       347.56291893, 215.46771757, 204.85400077, 243.05861085,\n",
       "       723.9350073 , 224.68141157, 310.70692458, 400.27368981,\n",
       "       322.14680915, 326.61937601, 247.80816854, 227.12500291,\n",
       "        57.53745753, 274.85568531, 243.1567524 , 290.40787492,\n",
       "       236.9841686 , 194.46330442, 221.52056969, 248.54810403])"
      ]
     },
     "execution_count": 19,
     "metadata": {},
     "output_type": "execute_result"
    }
   ],
   "source": [
    "lm.predict(X)"
   ]
  },
  {
   "cell_type": "code",
   "execution_count": 20,
   "id": "6f78ad89",
   "metadata": {},
   "outputs": [
    {
     "data": {
      "text/plain": [
       "293.54603409090885"
      ]
     },
     "execution_count": 20,
     "metadata": {},
     "output_type": "execute_result"
    }
   ],
   "source": [
    "lm.predict(X).mean()"
   ]
  },
  {
   "cell_type": "code",
   "execution_count": 21,
   "id": "9701f695",
   "metadata": {},
   "outputs": [
    {
     "data": {
      "text/html": [
       "<style>#sk-container-id-4 {color: black;background-color: white;}#sk-container-id-4 pre{padding: 0;}#sk-container-id-4 div.sk-toggleable {background-color: white;}#sk-container-id-4 label.sk-toggleable__label {cursor: pointer;display: block;width: 100%;margin-bottom: 0;padding: 0.3em;box-sizing: border-box;text-align: center;}#sk-container-id-4 label.sk-toggleable__label-arrow:before {content: \"▸\";float: left;margin-right: 0.25em;color: #696969;}#sk-container-id-4 label.sk-toggleable__label-arrow:hover:before {color: black;}#sk-container-id-4 div.sk-estimator:hover label.sk-toggleable__label-arrow:before {color: black;}#sk-container-id-4 div.sk-toggleable__content {max-height: 0;max-width: 0;overflow: hidden;text-align: left;background-color: #f0f8ff;}#sk-container-id-4 div.sk-toggleable__content pre {margin: 0.2em;color: black;border-radius: 0.25em;background-color: #f0f8ff;}#sk-container-id-4 input.sk-toggleable__control:checked~div.sk-toggleable__content {max-height: 200px;max-width: 100%;overflow: auto;}#sk-container-id-4 input.sk-toggleable__control:checked~label.sk-toggleable__label-arrow:before {content: \"▾\";}#sk-container-id-4 div.sk-estimator input.sk-toggleable__control:checked~label.sk-toggleable__label {background-color: #d4ebff;}#sk-container-id-4 div.sk-label input.sk-toggleable__control:checked~label.sk-toggleable__label {background-color: #d4ebff;}#sk-container-id-4 input.sk-hidden--visually {border: 0;clip: rect(1px 1px 1px 1px);clip: rect(1px, 1px, 1px, 1px);height: 1px;margin: -1px;overflow: hidden;padding: 0;position: absolute;width: 1px;}#sk-container-id-4 div.sk-estimator {font-family: monospace;background-color: #f0f8ff;border: 1px dotted black;border-radius: 0.25em;box-sizing: border-box;margin-bottom: 0.5em;}#sk-container-id-4 div.sk-estimator:hover {background-color: #d4ebff;}#sk-container-id-4 div.sk-parallel-item::after {content: \"\";width: 100%;border-bottom: 1px solid gray;flex-grow: 1;}#sk-container-id-4 div.sk-label:hover label.sk-toggleable__label {background-color: #d4ebff;}#sk-container-id-4 div.sk-serial::before {content: \"\";position: absolute;border-left: 1px solid gray;box-sizing: border-box;top: 0;bottom: 0;left: 50%;z-index: 0;}#sk-container-id-4 div.sk-serial {display: flex;flex-direction: column;align-items: center;background-color: white;padding-right: 0.2em;padding-left: 0.2em;position: relative;}#sk-container-id-4 div.sk-item {position: relative;z-index: 1;}#sk-container-id-4 div.sk-parallel {display: flex;align-items: stretch;justify-content: center;background-color: white;position: relative;}#sk-container-id-4 div.sk-item::before, #sk-container-id-4 div.sk-parallel-item::before {content: \"\";position: absolute;border-left: 1px solid gray;box-sizing: border-box;top: 0;bottom: 0;left: 50%;z-index: -1;}#sk-container-id-4 div.sk-parallel-item {display: flex;flex-direction: column;z-index: 1;position: relative;background-color: white;}#sk-container-id-4 div.sk-parallel-item:first-child::after {align-self: flex-end;width: 50%;}#sk-container-id-4 div.sk-parallel-item:last-child::after {align-self: flex-start;width: 50%;}#sk-container-id-4 div.sk-parallel-item:only-child::after {width: 0;}#sk-container-id-4 div.sk-dashed-wrapped {border: 1px dashed gray;margin: 0 0.4em 0.5em 0.4em;box-sizing: border-box;padding-bottom: 0.4em;background-color: white;}#sk-container-id-4 div.sk-label label {font-family: monospace;font-weight: bold;display: inline-block;line-height: 1.2em;}#sk-container-id-4 div.sk-label-container {text-align: center;}#sk-container-id-4 div.sk-container {/* jupyter's `normalize.less` sets `[hidden] { display: none; }` but bootstrap.min.css set `[hidden] { display: none !important; }` so we also need the `!important` here to be able to override the default hidden behavior on the sphinx rendered scikit-learn.org. See: https://github.com/scikit-learn/scikit-learn/issues/21755 */display: inline-block !important;position: relative;}#sk-container-id-4 div.sk-text-repr-fallback {display: none;}</style><div id=\"sk-container-id-4\" class=\"sk-top-container\"><div class=\"sk-text-repr-fallback\"><pre>LassoCV()</pre><b>In a Jupyter environment, please rerun this cell to show the HTML representation or trust the notebook. <br />On GitHub, the HTML representation is unable to render, please try loading this page with nbviewer.org.</b></div><div class=\"sk-container\" hidden><div class=\"sk-item\"><div class=\"sk-estimator sk-toggleable\"><input class=\"sk-toggleable__control sk-hidden--visually\" id=\"sk-estimator-id-4\" type=\"checkbox\" checked><label for=\"sk-estimator-id-4\" class=\"sk-toggleable__label sk-toggleable__label-arrow\">LassoCV</label><div class=\"sk-toggleable__content\"><pre>LassoCV()</pre></div></div></div></div></div>"
      ],
      "text/plain": [
       "LassoCV()"
      ]
     },
     "execution_count": 21,
     "metadata": {},
     "output_type": "execute_result"
    }
   ],
   "source": [
    "clf = linear_model.LassoCV()\n",
    "clf.fit(X,y)"
   ]
  },
  {
   "cell_type": "code",
   "execution_count": 22,
   "id": "bec2d503",
   "metadata": {},
   "outputs": [
    {
     "data": {
      "text/plain": [
       "array([ 0.76032278,  0.        ,  0.00087578,  0.02759866,  0.        ,\n",
       "        0.        ,  0.        ,  0.        , -0.        ])"
      ]
     },
     "execution_count": 22,
     "metadata": {},
     "output_type": "execute_result"
    }
   ],
   "source": [
    "clf.coef_"
   ]
  },
  {
   "cell_type": "code",
   "execution_count": 23,
   "id": "15404841",
   "metadata": {},
   "outputs": [
    {
     "data": {
      "text/plain": [
       "-9.990200875643382"
      ]
     },
     "execution_count": 23,
     "metadata": {},
     "output_type": "execute_result"
    }
   ],
   "source": [
    "clf.intercept_"
   ]
  },
  {
   "cell_type": "code",
   "execution_count": 24,
   "id": "9ec24700",
   "metadata": {},
   "outputs": [
    {
     "data": {
      "text/plain": [
       "array([[  5560.18993016,   5546.53215737,  18453.34181092,\n",
       "          6520.23316232,  16243.19825006],\n",
       "       [  5511.96774959,   5491.47024322,  18453.34181092,\n",
       "          6454.65030015,  16243.19825006],\n",
       "       [  5467.90223051,   5440.84006689,  18453.34181092,\n",
       "          6394.25917645,  16243.19825006],\n",
       "       [  5427.59513605,   5394.24906578,  18405.0006983 ,\n",
       "          6338.60937422,  16243.19825006],\n",
       "       [  5390.69045074,   5351.34336247,  18209.77346055,\n",
       "          6287.29392478,  16243.19825006],\n",
       "       [  5356.86953149,   5311.80356473,  18029.32181149,\n",
       "          6239.94467421,  15402.66068386],\n",
       "       [  5325.84684627,   5275.34105615,  17862.43918939,\n",
       "          6196.22818435,  15140.62193925],\n",
       "       [  5297.366227  ,   5241.69471713,  17708.02779938,\n",
       "          6155.84210309,  16057.17693403],\n",
       "       [  5271.19757239,   5210.62802382,  17565.0877077 ,\n",
       "          6118.51194738,  17921.67968694],\n",
       "       [  5247.13394463,   5181.92647907,  17432.7071367 ,\n",
       "          6083.98824918,  20538.72458991],\n",
       "       [  5224.98901116,   5155.39533521,  17310.05381884,\n",
       "          6052.04402082,  23743.20595255],\n",
       "       [  5204.59478866,   5130.85757357,  17196.36728576,\n",
       "          6022.47250179,  27396.04465908],\n",
       "       [  5185.79965211,   5108.15210999,  17090.95198337,\n",
       "          5995.08515347,  31380.49345421],\n",
       "       [  5168.46657623,   5087.13219935,  16993.17111746,\n",
       "          5969.70987269,  35598.94400681],\n",
       "       [  5152.47158092,   5067.66401555,  16902.44114585,\n",
       "          5946.18939835,  39970.16901012],\n",
       "       [  5137.70235578,   5049.62538633,  16818.22684336,\n",
       "          5924.37988873,  44426.94136365],\n",
       "       [  5124.05704198,   5032.90466466,  16740.03687466,\n",
       "          5904.14964973,  48913.98011772],\n",
       "       [  5111.44315245,   5017.39972099,  16667.41981799,\n",
       "          5885.3779966 ,  53386.17949666],\n",
       "       [  5099.77661374,   5003.01704219,  16599.96058957,\n",
       "          5867.95423402,  57807.08308236],\n",
       "       [  5088.98091498,   4989.67092511,  16537.27722424,\n",
       "          5851.77674122,  62147.57024927],\n",
       "       [  5078.9863512 ,   4977.28275383,  16479.01797345,\n",
       "          5836.75215007,  66384.72629422],\n",
       "       [  5069.72934978,   4965.78035125,  16424.85868611,\n",
       "          5822.79460608,  70500.8714853 ],\n",
       "       [  5061.15187034,   4955.09739661,  16374.50044181,\n",
       "          5809.82510299,  74482.72753841],\n",
       "       [  5053.20086939,   4945.17290156,  16327.66740963,\n",
       "          5797.77088287,  78320.70288261],\n",
       "       [  5045.82782216,   4935.95073848,  16284.10490857,\n",
       "          5786.56489472,  82008.28055312],\n",
       "       [  5038.98829516,   4927.37921509,  16243.57764874,\n",
       "          5776.14530525,  85541.49470204],\n",
       "       [  5032.64156354,   4919.41069056,  16205.86813444,\n",
       "          5766.45505616,  88918.48358515],\n",
       "       [  5026.75026811,   4912.00122856,  16170.77521268,\n",
       "          5757.4414632 ,  92139.1085049 ],\n",
       "       [  5021.28010764,   4905.11028323,  16138.11275236,\n",
       "          5749.05585256,  95204.62959753],\n",
       "       [  5016.19956241,   4898.70041478,  16107.70844104,\n",
       "          5728.37101566,  98117.43057447],\n",
       "       [  4564.32384389,   4445.01141347,  16079.40268767,\n",
       "          5315.46722397, 100880.78558822],\n",
       "       [  4174.99402581,   4055.34673908,  16053.04762089,\n",
       "          4954.65748124, 103498.6623134 ],\n",
       "       [  3846.24410247,   3723.65775303,  16028.5061736 ,\n",
       "          4639.27020508, 105975.55613167],\n",
       "       [  3569.51832392,   3441.90635999,  16005.65124562,\n",
       "          4363.49511325, 108316.35100149],\n",
       "       [  3337.42016521,   3203.13423759,  15984.36493702,\n",
       "          4122.27157189, 110526.20319422],\n",
       "       [  3143.55831421,   3001.3199833 ,  14838.77804761,\n",
       "          3911.1878365 , 112610.44459836],\n",
       "       [  2982.41292387,   2831.25163627,  13483.21751362,\n",
       "          3726.41130815, 114574.50274504],\n",
       "       [  2849.21947525,   2688.43260012,  12307.67448791,\n",
       "          3564.5921355 , 116423.83509856],\n",
       "       [  2739.86225426,   2568.96715117,  11288.468631  ,\n",
       "          3422.81490839, 117547.64114937],\n",
       "       [  2650.8095441 ,   2469.49324193,  10405.00911558,\n",
       "          3298.53890995, 111819.23914096],\n",
       "       [  2579.00366533,   2387.10831677,   9639.43291976,\n",
       "          3189.54965218, 106613.25826   ],\n",
       "       [  2521.81756958,   2319.30800797,   8976.18690694,\n",
       "          3093.91670124, 101877.99216449],\n",
       "       [  2476.99203764,   2263.9329149 ,   8401.7663531 ,\n",
       "          3009.95697462,  97566.10588305],\n",
       "       [  2442.58604019,   2219.12240662,   7904.43740767,\n",
       "          2936.20279903,  93635.48783498],\n",
       "       [  2416.93368082,   2183.27452697,   7474.00563547,\n",
       "          2871.37411017,  90048.63306279],\n",
       "       [  2398.60685592,   2155.01120167,   7101.61476023,\n",
       "          2814.35425622,  86775.45308357],\n",
       "       [  2386.38287958,   2133.14805132,   6779.57167228,\n",
       "          2764.16893673,  83779.1176524 ],\n",
       "       [  2379.21641981,   2116.66820545,   6501.19427609,\n",
       "          2719.96786975,  81036.61141252],\n",
       "       [  2376.21517828,   2104.69959183,   6260.6791995 ,\n",
       "          2681.00883272,  78524.06975905],\n",
       "       [  2376.61882004,   2096.49524403,   6052.98677476,\n",
       "          2646.64376897,  76220.11577176],\n",
       "       [  2379.78072424,   2091.41623   ,   5873.74103894,\n",
       "          2616.30669165,  74105.5788884 ],\n",
       "       [  2385.15218343,   2088.91685657,   5719.14279489,\n",
       "          2589.50315178,  72163.24648037],\n",
       "       [  2392.26872754,   2088.53184988,   5585.8940291 ,\n",
       "          2565.80106745,  70377.64516019],\n",
       "       [  2400.73829138,   2089.86525101,   5471.13220515,\n",
       "          2544.82273764,  68734.84812529],\n",
       "       [  2410.23098134,   2092.58080046,   5372.37314421,\n",
       "          2526.23788696,  67222.30531197],\n",
       "       [  2420.47022902,   2096.39361463,   5287.4613723 ,\n",
       "          2509.75760776,  65828.69354241],\n",
       "       [  2431.22514766,   2101.06298332,   5214.52695985,\n",
       "          2495.1290832 ,  64548.94412101],\n",
       "       [  2442.30393105,   2106.38613983,   5151.94800629,\n",
       "          2482.13099015,  63363.09728722],\n",
       "       [  2453.54815623,   2112.19287457,   5098.31803289,\n",
       "          2470.56949389,  62268.35153624],\n",
       "       [  2464.82786913,   2118.34088021,   5052.41764292,\n",
       "          2460.27475794,  61257.11602963],\n",
       "       [  2476.03734847,   2124.71173104,   5013.18989208,\n",
       "          2451.09790248,  60322.49537472],\n",
       "       [  2487.09145699,   2131.20741207,   4979.71888465,\n",
       "          2442.90835322,  59458.22393807],\n",
       "       [  2497.92250116,   2137.74732453,   4951.21117389,\n",
       "          2435.59153025,  58658.6019119 ],\n",
       "       [  2508.47753086,   2144.26570396,   4926.97960049,\n",
       "          2429.04683308,  57918.43848277],\n",
       "       [  2518.71601956,   2150.70939581,   4906.42925036,\n",
       "          2423.18588345,  57233.00126565],\n",
       "       [  2528.60787373,   2157.03594043,   4889.04525477,\n",
       "          2417.93099277,  56597.97126415],\n",
       "       [  2538.13172648,   2163.21192588,   4874.38219206,\n",
       "          2413.21382514,  56009.4027083 ],\n",
       "       [  2547.27347698,   2169.21157235,   4862.05488131,\n",
       "          2408.97423084,  55463.68720152],\n",
       "       [  2556.02504186,   2175.01551708,   4851.73038606,\n",
       "          2405.15922817,  54957.52167741],\n",
       "       [  2564.38328972,   2180.60977225,   4843.1210696 ,\n",
       "          2401.72211481,  54487.87972817],\n",
       "       [  2572.3491333 ,   2185.98483271,   4835.97856425,\n",
       "          2398.62169174,  54051.98591963],\n",
       "       [  2579.92675765,   2191.1349127 ,   4830.08853498,\n",
       "          2395.82158557,  53647.29275413],\n",
       "       [  2587.12296538,   2196.05729421,   4825.26613318,\n",
       "          2393.28599859,  53277.37003122],\n",
       "       [  2488.09748054,   2164.82014886,   4821.35205029,\n",
       "          2390.99733121,  52927.85436583],\n",
       "       [  2351.94668883,   2003.61535682,   4818.20909258,\n",
       "          2179.390088  ,  52603.0705963 ],\n",
       "       [  2234.64282945,   1861.55667061,   4815.71345984,\n",
       "          2005.35886876,  52301.2213843 ],\n",
       "       [  2133.66611949,   1736.2614671 ,   4555.45324483,\n",
       "          1870.28886556,  52020.62497702],\n",
       "       [  2046.70153383,   1625.66435193,   4284.23114035,\n",
       "          1767.92511254,  51759.73058565],\n",
       "       [  1971.97401901,   1527.92349014,   4045.24472857,\n",
       "          1693.04614483,  51517.10736335],\n",
       "       [  1907.80233277,   1441.49902446,   3834.49247762,\n",
       "          1641.11831593,  51291.43431301],\n",
       "       [  1852.75610622,   1365.01235132,   3648.49394295,\n",
       "          1608.26271087,  51081.49113638],\n",
       "       [  1805.59504362,   1297.25796498,   3484.07724621,\n",
       "          1591.16559687,  50886.14992754],\n",
       "       [  1765.2438831 ,   1237.1813863 ,   3338.77739488,\n",
       "          1587.00076752,  50704.36762411],\n",
       "       [  1730.77066603,   1183.85989525,   3210.20736752,\n",
       "          1593.36227385,  50535.17913943],\n",
       "       [  1701.36785259,   1136.48574574,   3096.33601068,\n",
       "          1608.2061712 ,  50377.69110736],\n",
       "       [  1676.34387122,   1094.35154142,   2995.38681621,\n",
       "          1629.80009057,  50231.07617889],\n",
       "       [  1655.07583176,   1056.8374925 ,   2905.83585835,\n",
       "          1656.67959907,  50094.56781638],\n",
       "       [  1637.04862034,   1023.41327469,   2826.25808877,\n",
       "          1687.61045063,  46385.05108913],\n",
       "       [  1621.80840635,    993.57512844,   2755.4963148 ,\n",
       "          1721.544869  ,  42269.49876798],\n",
       "       [  1608.96259785,    966.91943534,   2692.50668693,\n",
       "          1757.6370483 ,  38618.20319311],\n",
       "       [  1598.17173214,    943.07914443,   2636.3742397 ,\n",
       "          1795.15434312,  35374.06363881],\n",
       "       [  1589.14605474,    921.7317946 ,   2586.29662075,\n",
       "          1833.49823321,  32489.16949599],\n",
       "       [  1581.62425374,    902.60355133,   2541.56986512,\n",
       "          1872.17599905,  29919.8778542 ],\n",
       "       [  1575.39183778,    885.42493862,   2501.57599269,\n",
       "          1910.76969411,  27628.78469651],\n",
       "       [  1570.25999895,    869.98717881,   2465.78798898,\n",
       "          1948.98425238,  25584.41818917],\n",
       "       [  1566.06592192,    856.09701743,   2433.69553536,\n",
       "          1986.54334757,  23758.12867388],\n",
       "       [  1562.67103058,    843.58409542,   2404.89668052,\n",
       "          2023.24103845,  22124.76018785],\n",
       "       [  1559.95073968,    832.30547764,   2379.02220244,\n",
       "          2058.90016654,  20662.21439128],\n",
       "       [  1557.80323955,    822.11313989,   2355.74691518,\n",
       "          2093.43630436,  19351.06707564],\n",
       "       [  1556.13920306,    812.89794484,   2334.79631036,\n",
       "          2126.7436615 ,  18174.23361779]])"
      ]
     },
     "execution_count": 24,
     "metadata": {},
     "output_type": "execute_result"
    }
   ],
   "source": [
    "clf.mse_path_"
   ]
  },
  {
   "cell_type": "code",
   "execution_count": 25,
   "id": "821a4278",
   "metadata": {},
   "outputs": [
    {
     "data": {
      "text/plain": [
       "array([10464.69906216, 10430.92567079, 10399.90830696, 10361.73050488,\n",
       "       10296.45988972, 10068.12005316,  9960.09544308, 10092.02155613,\n",
       "       10417.42098765, 10896.8960799 , 11497.13762771, 12190.06736177,\n",
       "       12952.09647063, 13763.48475451, 14607.78703016, 15471.37516757,\n",
       "       16343.02566975, 17213.56403694, 18075.55831238, 18923.05521096,\n",
       "       19751.35310455, 20556.8068957 , 21336.66047003, 22088.90298921,\n",
       "       22812.14578341, 23505.51703326, 24168.57180597, 24801.21533549,\n",
       "       25403.63771866, 25973.68200167, 26256.99815145, 26547.34163609,\n",
       "       26842.64687317, 27139.38440885, 27434.67882119, 27501.057756  ,\n",
       "       27519.55922539, 27566.75075947, 27513.55081884, 26128.6179905 ,\n",
       "       24881.67056281, 23757.84427004, 22743.75083266, 21827.5672977 ,\n",
       "       20998.84420324, 20249.00803152, 19568.47783846, 18950.73163672,\n",
       "       18389.33451228, 17878.57207591, 17413.36471465, 16989.19229341,\n",
       "       16602.02816683, 16248.28132209, 15924.74562499, 15628.55527322,\n",
       "       15358.17765901, 15109.17327091, 14880.59601876, 14670.59543596,\n",
       "       14477.50644976, 14299.830009  , 14136.21488835, 13985.44163023,\n",
       "       13846.40836297, 13718.11826517, 13599.66847557, 13490.2402726 ,\n",
       "       13389.09037012, 13295.54319491, 13208.98402833, 13128.852909  ,\n",
       "       13055.82048452, 12958.62427535, 12791.24636451, 12643.69864259,\n",
       "       12463.2589348 , 12296.85054486, 12151.05914918, 12023.26929276,\n",
       "       11911.20324955, 11812.84915584, 11726.51421118, 11650.67586841,\n",
       "       11584.01737752, 11525.39169966, 11473.79931961, 10711.87630471,\n",
       "        9872.38469731,  9128.84579231,  8469.36861964,  7883.96843986,\n",
       "        7363.57030469,  6900.38943194,  6487.88752166,  6120.10609923,\n",
       "        5791.83060656,  5498.47859552,  5236.03333492,  5000.96214751])"
      ]
     },
     "execution_count": 25,
     "metadata": {},
     "output_type": "execute_result"
    }
   ],
   "source": [
    "clf.mse_path_.mean(1)"
   ]
  },
  {
   "cell_type": "code",
   "execution_count": 26,
   "id": "011d576c",
   "metadata": {},
   "outputs": [
    {
     "data": {
      "text/plain": [
       "99"
      ]
     },
     "execution_count": 26,
     "metadata": {},
     "output_type": "execute_result"
    }
   ],
   "source": [
    "clf.mse_path_.mean(1).argmin()"
   ]
  },
  {
   "cell_type": "code",
   "execution_count": 27,
   "id": "951921e4",
   "metadata": {},
   "outputs": [
    {
     "data": {
      "text/plain": [
       "358.63054269783066"
      ]
     },
     "execution_count": 27,
     "metadata": {},
     "output_type": "execute_result"
    }
   ],
   "source": [
    "clf.alpha_"
   ]
  },
  {
   "cell_type": "code",
   "execution_count": 28,
   "id": "88b79ab0",
   "metadata": {},
   "outputs": [
    {
     "data": {
      "text/plain": [
       "358.63054269783066"
      ]
     },
     "execution_count": 28,
     "metadata": {},
     "output_type": "execute_result"
    }
   ],
   "source": [
    "clf.alphas_[clf.mse_path_.mean(1).argmin()]"
   ]
  },
  {
   "cell_type": "code",
   "execution_count": 29,
   "id": "98747e7d",
   "metadata": {},
   "outputs": [
    {
     "data": {
      "text/plain": [
       "array([328.08906766, 323.23096277, 198.00670377, 210.24408554,\n",
       "       307.34973319, 388.67226673, 334.58500331, 271.47059656,\n",
       "       223.5435436 , 239.5747628 , 298.47632597, 385.55075736,\n",
       "       423.85233164, 260.43537142, 278.11993628, 218.8128115 ,\n",
       "       281.37957252, 277.56267262, 235.70481373, 296.05205992,\n",
       "       275.10640634, 297.85137018, 267.74852307, 200.52765742,\n",
       "       220.25550325, 272.29588314, 252.51723211, 329.28434455,\n",
       "       458.27237733, 325.31637091, 203.22981068, 374.02275496,\n",
       "       210.58315753, 237.90677094, 324.7492408 , 201.61655346,\n",
       "       419.41517864, 504.70783868, 266.82014473, 240.84699343,\n",
       "       253.15836619, 604.98074066, 249.68367269, 188.23832541,\n",
       "       328.26036903, 237.23209965, 313.62325592, 461.67343912,\n",
       "       232.77556695, 253.3312455 , 288.91225554, 256.90952501,\n",
       "       184.4516331 , 213.69965907, 248.9706687 , 258.70081964,\n",
       "       216.52081162, 264.9944484 , 275.55288497, 298.72197391,\n",
       "       261.13700955, 258.49321288, 225.76309148, 442.57823479,\n",
       "       353.28387236, 486.60615795, 306.11898064, 466.33370986,\n",
       "       406.54576189, 239.59533171, 275.28169953, 228.26896557,\n",
       "       656.99011463, 251.54868548, 364.45500325, 228.28319479,\n",
       "       342.43293428, 330.83867054, 258.4268275 , 232.14911219,\n",
       "       190.04208091, 242.30230811, 287.87059027, 288.02302617,\n",
       "       239.67329918, 235.24274553, 204.68083349, 234.90629337])"
      ]
     },
     "execution_count": 29,
     "metadata": {},
     "output_type": "execute_result"
    }
   ],
   "source": [
    "clf.predict(X)"
   ]
  },
  {
   "cell_type": "code",
   "execution_count": 30,
   "id": "08925cb1",
   "metadata": {},
   "outputs": [
    {
     "data": {
      "text/plain": [
       "293.5460340909091"
      ]
     },
     "execution_count": 30,
     "metadata": {},
     "output_type": "execute_result"
    }
   ],
   "source": [
    "clf.predict(X).mean()"
   ]
  },
  {
   "cell_type": "code",
   "execution_count": 31,
   "id": "39e40442",
   "metadata": {},
   "outputs": [
    {
     "data": {
      "text/plain": [
       "293.54603409090885"
      ]
     },
     "execution_count": 31,
     "metadata": {},
     "output_type": "execute_result"
    }
   ],
   "source": [
    "lm.predict(X).mean()"
   ]
  },
  {
   "cell_type": "code",
   "execution_count": 32,
   "id": "81bf1659",
   "metadata": {},
   "outputs": [
    {
     "data": {
      "text/plain": [
       "7968.019601057265"
      ]
     },
     "execution_count": 32,
     "metadata": {},
     "output_type": "execute_result"
    }
   ],
   "source": [
    "clf.predict(X).var()"
   ]
  },
  {
   "cell_type": "code",
   "execution_count": 33,
   "id": "f5a87709",
   "metadata": {},
   "outputs": [
    {
     "data": {
      "text/plain": [
       "10282.185880371808"
      ]
     },
     "execution_count": 33,
     "metadata": {},
     "output_type": "execute_result"
    }
   ],
   "source": [
    "lm.predict(X).var()"
   ]
  },
  {
   "cell_type": "code",
   "execution_count": 34,
   "id": "08d6efad",
   "metadata": {},
   "outputs": [
    {
     "data": {
      "text/plain": [
       "[<matplotlib.lines.Line2D at 0x7fc85005ecd0>]"
      ]
     },
     "execution_count": 34,
     "metadata": {},
     "output_type": "execute_result"
    },
    {
     "data": {
      "image/png": "[encoded data removed]",
      "text/plain": [
       "<Figure size 640x480 with 1 Axes>"
      ]
     },
     "metadata": {},
     "output_type": "display_data"
    }
   ],
   "source": [
    "plt.plot(clf.alphas_,clf.mse_path_.mean(1))"
   ]
  },
  {
   "cell_type": "markdown",
   "id": "06063e31",
   "metadata": {},
   "source": [
    "## Principle Component Analysis (PCA)"
   ]
  },
  {
   "cell_type": "code",
   "execution_count": 86,
   "id": "fe200770",
   "metadata": {},
   "outputs": [],
   "source": [
    "import os\n",
    "from numpy.linalg import eigh\n",
    "import sklearn.preprocessing as prep\n",
    "from sklearn.decomposition import PCA\n",
    "import statsmodels.api as sm\n",
    "from sklearn.preprocessing import PowerTransformer"
   ]
  },
  {
   "cell_type": "code",
   "execution_count": 87,
   "id": "7fe8206f",
   "metadata": {},
   "outputs": [],
   "source": [
    "# Create a copy of the dataset and keep only \"lassess, bdrms, llotsize, lsqrft, colonial\" variables.\n",
    "dfpca = df.copy()\n",
    "dfpca = dfpca.drop(['price','assess','lotsize','sqrft','lprice'], axis = 1)"
   ]
  },
  {
   "cell_type": "code",
   "execution_count": 88,
   "id": "e658c2fb",
   "metadata": {},
   "outputs": [],
   "source": [
    "#standardize the data\n",
    "sc = prep.StandardScaler()\n",
    "sX = pd.DataFrame(sc.fit_transform(dfpca), columns = dfpca.columns)\n",
    "# StandardScaler uses the population variance/standard deviation\n",
    "# calculate the sample standard deviation of the result and scale by dividing with it \n",
    "sc.scale_ = np.std(sX, axis = 0, ddof = 1).to_list()\n",
    "sX = sX/sc.scale_"
   ]
  },
  {
   "cell_type": "code",
   "execution_count": 89,
   "id": "7aa255fa",
   "metadata": {},
   "outputs": [],
   "source": [
    "#create pca object\n",
    "#not specifying the number of components results in all variables being used\n",
    "pcaall = PCA()\n",
    "#pass the feature set \n",
    "#fit calculates parameters; transform applies the transformation\n",
    "pcsall = pcaall.fit_transform(sX)"
   ]
  },
  {
   "cell_type": "code",
   "execution_count": 37,
   "id": "abca4b2f",
   "metadata": {},
   "outputs": [
    {
     "name": "stdout",
     "output_type": "stream",
     "text": [
      "\n",
      "Eigen Values of Correlation Matrix\n",
      "[2.55337442 1.09675786 0.77276926 0.48668841 0.09041005]\n"
     ]
    }
   ],
   "source": [
    "print('\\nEigen Values of Correlation Matrix')\n",
    "print(pcaall.explained_variance_)"
   ]
  },
  {
   "cell_type": "code",
   "execution_count": 93,
   "id": "fbc56c10",
   "metadata": {},
   "outputs": [
    {
     "data": {
      "image/png": "[encoded data removed]",
      "text/plain": [
       "<Figure size 500x300 with 1 Axes>"
      ]
     },
     "metadata": {},
     "output_type": "display_data"
    }
   ],
   "source": [
    "eigenvalues = pcaall.explained_variance_\n",
    "\n",
    "num_components = len(eigenvalues)\n",
    "ind = np.arange(num_components)\n",
    "plt.figure(figsize=(5, 3))\n",
    "plt.plot(ind, eigenvalues, 'bo-')\n",
    "plt.xlabel('PC')\n",
    "plt.ylabel('Eigenvalue')\n",
    "plt.title('Scree Plot')\n",
    "plt.xticks(ind)\n",
    "plt.show()"
   ]
  },
  {
   "cell_type": "code",
   "execution_count": 38,
   "id": "3ea12482",
   "metadata": {},
   "outputs": [
    {
     "data": {
      "text/plain": [
       "array([0.51067488, 0.21935157, 0.15455385, 0.09733768, 0.01808201])"
      ]
     },
     "execution_count": 38,
     "metadata": {},
     "output_type": "execute_result"
    }
   ],
   "source": [
    "expldvarpcaall = pcaall.explained_variance_ratio_\n",
    "expldvarpcaall"
   ]
  },
  {
   "cell_type": "code",
   "execution_count": 39,
   "id": "f5032350",
   "metadata": {},
   "outputs": [
    {
     "name": "stdout",
     "output_type": "stream",
     "text": [
      "\n",
      "Cumulative sum of the explained variance\n",
      "[0.51067488 0.73002646 0.88458031 0.98191799 1.        ]\n"
     ]
    }
   ],
   "source": [
    "expldvarsumall = np.cumsum(expldvarpcaall)\n",
    "print('\\nCumulative sum of the explained variance')\n",
    "print(expldvarsumall)\n",
    "\n",
    "# PC1 & PC2        satisfy the threshold 70%.\n",
    "# PC1 & PC2 & PC3  satisfy the threshold 80%."
   ]
  },
  {
   "cell_type": "code",
   "execution_count": 40,
   "id": "e3b19053",
   "metadata": {},
   "outputs": [
    {
     "name": "stdout",
     "output_type": "stream",
     "text": [
      "         PC1       PC2       PC3       PC4       PC5\n",
      "0   0.999779 -0.692754 -0.415596 -0.444265  0.083052\n",
      "1   0.485264  0.098896  0.828137 -0.787400 -0.067252\n",
      "2  -2.275272  0.833506 -0.463109  0.664855 -0.071768\n",
      "3  -1.734262 -0.900611  0.349249 -0.248694 -0.129449\n",
      "4   0.862694 -0.757083 -0.451606 -0.394611  0.407078\n",
      "..       ...       ...       ...       ...       ...\n",
      "83 -0.332768 -0.378885  0.349681 -0.794051 -0.307009\n",
      "84 -1.333364  1.120986 -0.636364  0.202343  0.035837\n",
      "85 -1.470809  1.153576 -0.405993  0.390967 -0.124779\n",
      "86 -2.826652  1.467065  0.382222  0.067381 -0.470700\n",
      "87 -0.550504 -1.199740 -0.223185  0.271160  0.115016\n",
      "\n",
      "[88 rows x 5 columns]\n"
     ]
    }
   ],
   "source": [
    "pcsalldf = pd.DataFrame(pcsall, columns = ['PC1', 'PC2', 'PC3', 'PC4', 'PC5'])\n",
    "print(pcsalldf) "
   ]
  },
  {
   "cell_type": "markdown",
   "id": "2bedf8dd",
   "metadata": {},
   "source": [
    "### Run linear regression using all PCs."
   ]
  },
  {
   "cell_type": "code",
   "execution_count": 41,
   "id": "0d53e8b6",
   "metadata": {},
   "outputs": [],
   "source": [
    "# Join dfpca with pcsalldf, remove dependent variable\n",
    "allpclr = pd.concat([dfpca, pcsalldf], axis = 1)"
   ]
  },
  {
   "cell_type": "code",
   "execution_count": 42,
   "id": "68abc51e",
   "metadata": {},
   "outputs": [
    {
     "name": "stdout",
     "output_type": "stream",
     "text": [
      "                            OLS Regression Results                            \n",
      "==============================================================================\n",
      "Dep. Variable:                  price   R-squared:                       0.782\n",
      "Model:                            OLS   Adj. R-squared:                  0.768\n",
      "Method:                 Least Squares   F-statistic:                     58.72\n",
      "Date:                Sat, 11 Mar 2023   Prob (F-statistic):           1.15e-25\n",
      "Time:                        15:59:46   Log-Likelihood:                -465.01\n",
      "No. Observations:                  88   AIC:                             942.0\n",
      "Df Residuals:                      82   BIC:                             956.9\n",
      "Df Model:                           5                                         \n",
      "Covariance Type:            nonrobust                                         \n",
      "==============================================================================\n",
      "                 coef    std err          t      P>|t|      [0.025      0.975]\n",
      "------------------------------------------------------------------------------\n",
      "bdrms          9.3301      3.148      2.964      0.004       3.069      15.592\n",
      "colonial       0.7402      2.134      0.347      0.730      -3.505       4.986\n",
      "lassess       24.9104      3.879      6.422      0.000      17.194      32.627\n",
      "llotsize       8.8975      1.959      4.541      0.000       5.000      12.795\n",
      "lsqrft         5.0275      2.498      2.013      0.047       0.059       9.996\n",
      "PC1           45.0834      3.278     13.754      0.000      38.563      51.604\n",
      "PC2           12.6988      4.039      3.144      0.002       4.663      20.734\n",
      "PC3           -1.3555      4.893     -0.277      0.782     -11.090       8.379\n",
      "PC4          -13.6905      5.558     -2.463      0.016     -24.748      -2.633\n",
      "PC5          -59.2488     16.433     -3.606      0.001     -91.939     -26.559\n",
      "==============================================================================\n",
      "Omnibus:                       26.878   Durbin-Watson:                   2.208\n",
      "Prob(Omnibus):                  0.000   Jarque-Bera (JB):               61.192\n",
      "Skew:                           1.067   Prob(JB):                     5.16e-14\n",
      "Kurtosis:                       6.484   Cond. No.                     1.48e+17\n",
      "==============================================================================\n",
      "\n",
      "Notes:\n",
      "[1] Standard Errors assume that the covariance matrix of the errors is correctly specified.\n",
      "[2] The smallest eigenvalue is 7.33e-31. This might indicate that there are\n",
      "strong multicollinearity problems or that the design matrix is singular.\n"
     ]
    }
   ],
   "source": [
    "linregr5 = sm.OLS(y, allpclr).fit()\n",
    "print(linregr5.summary())\n",
    "\n",
    "# In this regression, we get a R-square = 0.782 and Adj. R-square = 0.768. \n",
    "# The variables that were statistically significant at the 0.05 level were:\n",
    "# bdrms(0.004), lassess(0.000), llotsize(0.000), lsqrft(0.047), PC1(0.000), PC2(0.002), PC4(0.016), PC5(0.001)"
   ]
  },
  {
   "cell_type": "markdown",
   "id": "f57d5682",
   "metadata": {},
   "source": [
    "### Run regressions using the number of principal components based on Kaiser’s Rule and “explained variance” thresholds of 70% (using PC1 and PC2)"
   ]
  },
  {
   "cell_type": "code",
   "execution_count": 43,
   "id": "0daadea1",
   "metadata": {},
   "outputs": [],
   "source": [
    "pc2lr = allpclr.copy()"
   ]
  },
  {
   "cell_type": "code",
   "execution_count": 44,
   "id": "dbe5d327",
   "metadata": {},
   "outputs": [],
   "source": [
    "pc2lr = pc2lr.drop(['PC3','PC4','PC5'], axis = 1)"
   ]
  },
  {
   "cell_type": "code",
   "execution_count": 46,
   "id": "81ceae56",
   "metadata": {},
   "outputs": [
    {
     "name": "stdout",
     "output_type": "stream",
     "text": [
      "                            OLS Regression Results                            \n",
      "==============================================================================\n",
      "Dep. Variable:                  price   R-squared:                       0.782\n",
      "Model:                            OLS   Adj. R-squared:                  0.768\n",
      "Method:                 Least Squares   F-statistic:                     58.72\n",
      "Date:                Sat, 11 Mar 2023   Prob (F-statistic):           1.15e-25\n",
      "Time:                        16:00:55   Log-Likelihood:                -465.01\n",
      "No. Observations:                  88   AIC:                             942.0\n",
      "Df Residuals:                      82   BIC:                             956.9\n",
      "Df Model:                           5                                         \n",
      "Covariance Type:            nonrobust                                         \n",
      "==============================================================================\n",
      "                 coef    std err          t      P>|t|      [0.025      0.975]\n",
      "------------------------------------------------------------------------------\n",
      "bdrms          8.4088      9.968      0.844      0.401     -11.421      28.238\n",
      "colonial      19.9955      7.722      2.589      0.011       4.634      35.357\n",
      "lassess      219.4312     55.718      3.938      0.000     108.590     330.272\n",
      "llotsize     -26.0754     12.159     -2.145      0.035     -50.264      -1.887\n",
      "lsqrft      -102.0547     37.716     -2.706      0.008    -177.084     -27.025\n",
      "PC1           36.6391      5.570      6.578      0.000      25.559      47.719\n",
      "PC2           18.8932      5.103      3.703      0.000       8.742      29.044\n",
      "==============================================================================\n",
      "Omnibus:                       26.878   Durbin-Watson:                   2.208\n",
      "Prob(Omnibus):                  0.000   Jarque-Bera (JB):               61.192\n",
      "Skew:                           1.067   Prob(JB):                     5.16e-14\n",
      "Kurtosis:                       6.484   Cond. No.                     9.77e+16\n",
      "==============================================================================\n",
      "\n",
      "Notes:\n",
      "[1] Standard Errors assume that the covariance matrix of the errors is correctly specified.\n",
      "[2] The smallest eigenvalue is 1.69e-30. This might indicate that there are\n",
      "strong multicollinearity problems or that the design matrix is singular.\n"
     ]
    }
   ],
   "source": [
    "lrpc2 = sm.OLS(y, pc2lr).fit()\n",
    "print(lrpc2.summary())\n",
    "\n",
    "# With only PC1 and PC2, this regression get the SAME R-square and Adj. R-square as the previous regression. \n",
    "# The variables that were statistically significant at the 0.05 level were:\n",
    "# colonial(0.011), lassess(0.000), llotsize(0.035), lsqrft(0.008), PC1(0.000), PC2(0.000)"
   ]
  },
  {
   "cell_type": "code",
   "execution_count": null,
   "id": "80277489",
   "metadata": {},
   "outputs": [],
   "source": []
  }
 ],
 "metadata": {
  "kernelspec": {
   "display_name": "Python 3 (ipykernel)",
   "language": "python",
   "name": "python3"
  },
  "language_info": {
   "codemirror_mode": {
    "name": "ipython",
    "version": 3
   },
   "file_extension": ".py",
   "mimetype": "text/x-python",
   "name": "python",
   "nbconvert_exporter": "python",
   "pygments_lexer": "ipython3",
   "version": "3.9.7"
  }
 },
 "nbformat": 4,
 "nbformat_minor": 5
}
